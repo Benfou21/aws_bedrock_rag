{
 "cells": [
  {
   "cell_type": "code",
   "execution_count": 1,
   "metadata": {},
   "outputs": [],
   "source": [
    "import logging\n",
    "import boto3\n",
    "from botocore.exceptions import ClientError\n",
    "import json\n",
    "import os\n",
    "from dotenv import load_dotenv"
   ]
  },
  {
   "cell_type": "code",
   "execution_count": 2,
   "metadata": {},
   "outputs": [
    {
     "data": {
      "text/plain": [
       "True"
      ]
     },
     "execution_count": 2,
     "metadata": {},
     "output_type": "execute_result"
    }
   ],
   "source": [
    "load_dotenv()"
   ]
  },
  {
   "cell_type": "markdown",
   "metadata": {},
   "source": [
    "## Sentiment Analysis"
   ]
  },
  {
   "cell_type": "code",
   "execution_count": 3,
   "metadata": {},
   "outputs": [],
   "source": [
    "access_key = os.getenv(\"AWS_ACCESS_KEY_ID\")\n",
    "secret_key = os.getenv(\"AWS_SECRET_ACCESS_KEY\")\n",
    "session_token = os.getenv(\"AWS_SESSION_KEY\")\n",
    "region_name = os.getenv(\"AWS_DEFAULT_REGION\")\n"
   ]
  },
  {
   "cell_type": "code",
   "execution_count": 4,
   "metadata": {},
   "outputs": [],
   "source": [
    "region_name = 'us-west-2'\n",
    "bedrock_client = boto3.client('bedrock-runtime', region_name=region_name,\n",
    "    aws_access_key_id=access_key,\n",
    "    aws_secret_access_key=secret_key,\n",
    "    aws_session_token=session_token  )\n"
   ]
  },
  {
   "cell_type": "code",
   "execution_count": 139,
   "metadata": {},
   "outputs": [],
   "source": [
    "# Fonction pour l'analyse de sentiment en utilisant l'API Messages de Claude 3\n",
    "def analyze_sentiment(text):\n",
    "    try:\n",
    "        # Préparation de la requête pour l'API Messages\n",
    "        response = bedrock_client.invoke_model(\n",
    "            modelId=\"anthropic.claude-3-sonnet-20240229-v1:0\",\n",
    "            contentType=\"application/json\",\n",
    "            accept=\"application/json\",\n",
    "            body=json.dumps({\n",
    "                \"anthropic_version\": \"bedrock-2023-05-31\",\n",
    "                \"max_tokens\": 50,\n",
    "                \"temperature\": 0.5,\n",
    "                \"messages\": [\n",
    "                    {\"role\": \"user\", \"content\": f\"Analyse le sentiment de ce texte : \\\"{text}\\\"\"}\n",
    "                ]\n",
    "            })\n",
    "        )\n",
    "\n",
    "        # Affichage de la réponse brute pour diagnostic\n",
    "        response_body = json.loads(response['body'].read().decode('utf-8'))\n",
    "        \n",
    "        # Vérification de la structure de la réponse et extraction du texte\n",
    "        content = response_body.get(\"content\")\n",
    "        if isinstance(content, list):\n",
    "            sentiment_analysis = \" \".join([part[\"text\"] for part in content if \"text\" in part])\n",
    "        else:\n",
    "            sentiment_analysis = content  # Directement utiliser le contenu si c'est une chaîne\n",
    "        \n",
    "        return sentiment_analysis or \"Pas de résultat détecté\"\n",
    "    except Exception as e:\n",
    "        print(\"Erreur :\", e)\n",
    "        return None"
   ]
  },
  {
   "cell_type": "code",
   "execution_count": 140,
   "metadata": {},
   "outputs": [
    {
     "name": "stdout",
     "output_type": "stream",
     "text": [
      "Erreur : 'tuple' object has no attribute 'invoke_model'\n",
      "Analyse de sentiment : None\n"
     ]
    }
   ],
   "source": [
    "# Exemple d'utilisation\n",
    "text_to_analyze = \"J'aime pas le fromage.\"\n",
    "result = analyze_sentiment(text_to_analyze)\n",
    "print(\"Analyse de sentiment :\", result)"
   ]
  },
  {
   "cell_type": "markdown",
   "metadata": {},
   "source": [
    "## RAG Agent"
   ]
  },
  {
   "cell_type": "code",
   "execution_count": 5,
   "metadata": {},
   "outputs": [],
   "source": [
    "agent_id = os.getenv(\"AGENT_ID\")\n",
    "agent_alias = os.getenv(\"AGENT_ALIAS\")"
   ]
  },
  {
   "cell_type": "code",
   "execution_count": 6,
   "metadata": {},
   "outputs": [],
   "source": [
    "runtime_client=boto3.client(\n",
    "    service_name=\"bedrock-agent-runtime\",\n",
    "    region_name=region_name,\n",
    "    aws_access_key_id=access_key,\n",
    "    aws_secret_access_key=secret_key,\n",
    "    aws_session_token=session_token  # Facultatif\n",
    "),\n"
   ]
  },
  {
   "cell_type": "code",
   "execution_count": 7,
   "metadata": {},
   "outputs": [
    {
     "data": {
      "text/plain": [
       "<botocore.client.AgentsforBedrockRuntime at 0x27273a31ed0>"
      ]
     },
     "execution_count": 7,
     "metadata": {},
     "output_type": "execute_result"
    }
   ],
   "source": [
    "runtime_client[0]"
   ]
  },
  {
   "cell_type": "code",
   "execution_count": 8,
   "metadata": {},
   "outputs": [],
   "source": [
    "import uuid\n",
    "session_id = str(uuid.uuid4())\n",
    "\n",
    "# Function to call the agent with a user prompt\n",
    "def call_agent_with_prompt(user_prompt):\n",
    "    try:\n",
    "        # Invoke the agent without invalid parameters\n",
    "        response = runtime_client[0].invoke_agent(\n",
    "            agentId=agent_id,\n",
    "            agentAliasId=agent_alias,  # Include this if you have an agent alias\n",
    "            sessionId=session_id,\n",
    "            inputText=user_prompt,\n",
    "            #enableTrace=True\n",
    "        )\n",
    "        event_stream = response.get('completion')\n",
    "        response_text = ''\n",
    "\n",
    "        # Parcourir l'EventStream pour obtenir la réponse\n",
    "        for event in event_stream:\n",
    "            # Chaque événement est un dictionnaire contenant les données de l'événement\n",
    "            # Pour la génération de texte, les données sont sous la clé 'chunk'\n",
    "            if 'chunk' in event:\n",
    "                chunk = event['chunk']\n",
    "                # La clé 'bytes' contient le texte généré\n",
    "                content = chunk.get('bytes', b'').decode('utf-8')\n",
    "                response_text += content\n",
    "            else:\n",
    "                print(\"Événement non traité :\", event)\n",
    "\n",
    "        return response_text\n",
    "\n",
    "    except Exception as e:\n",
    "        print(\"Erreur lors de l'appel à l'agent :\", e)\n",
    "        return None"
   ]
  },
  {
   "cell_type": "code",
   "execution_count": 9,
   "metadata": {},
   "outputs": [
    {
     "name": "stdout",
     "output_type": "stream",
     "text": [
      "Réponse de l'agent : Voici une analyse fondamentale de l'entreprise Accenture :\n",
      "\n",
      "Accenture est une entreprise de services informatiques et de conseil basée en Irlande. Elle opère dans de nombreux secteurs comme les services financiers, la santé, l'industrie, etc. Avec près de 774 000 employés, c'est l'une des plus grandes entreprises de services informatiques au monde.\n",
      "\n",
      "Sur le plan financier, Accenture affiche de solides performances :\n",
      "- Chiffre d'affaires de 64,9 milliards de dollars en 2022, en croissance de 26% sur un an\n",
      "- Marge opérationnelle de 14,6% et rentabilité des capitaux propres de 26,7%\n",
      "- Bilan solide avec 5 milliards de dollars de trésorerie nette et un ratio d'endettement raisonnable\n",
      "\n",
      "Accenture bénéficie d'une position de leader sur son marché grâce à son expertise sectorielle, son portefeuille de services diversifié et son modèle d'affaires récurrent. Ses perspectives de croissance restent favorables, portées par la demande continue pour la transformation numérique et les services de conseil.\n",
      "\n",
      "Cependant, l'entreprise fait face à des défis opérationnels comme la gestion des ressources humaines, la protection des données et la réalisation de ses projets informatiques. Elle doit aussi rester vigilante face aux risques macroéconomiques comme l'inflation et la hausse des taux d'intérêt.\n",
      "\n",
      "\n"
     ]
    }
   ],
   "source": [
    "# Exemple d'appel avec un *prompt* utilisateur\n",
    "user_prompt = \"Peux tu analyser une analyse fondamentale de Accenture ?\"\n",
    "response = call_agent_with_prompt(user_prompt)\n",
    "print(\"Réponse de l'agent :\", response)\n"
   ]
  },
  {
   "cell_type": "markdown",
   "metadata": {},
   "source": [
    "## Agent + macro + sentiment"
   ]
  },
  {
   "cell_type": "code",
   "execution_count": 10,
   "metadata": {},
   "outputs": [],
   "source": [
    "import yfinance as yf\n",
    "import pandas as pd"
   ]
  },
  {
   "cell_type": "code",
   "execution_count": 11,
   "metadata": {},
   "outputs": [],
   "source": [
    "ticker = yf.Ticker(\"AAPL\")"
   ]
  },
  {
   "cell_type": "markdown",
   "metadata": {},
   "source": [
    "Sentiment"
   ]
  },
  {
   "cell_type": "code",
   "execution_count": 12,
   "metadata": {},
   "outputs": [],
   "source": [
    "import requests\n",
    "from bs4 import BeautifulSoup\n",
    "import json\n",
    "\n",
    "# Fonction pour extraire le texte principal de l'article\n",
    "def extract_article_text(url):\n",
    "    response = requests.get(url)\n",
    "    soup = BeautifulSoup(response.content, 'html.parser')\n",
    "    \n",
    "    # Extraction des paragraphes de l'article\n",
    "    paragraphs = soup.find_all('p')\n",
    "    article_text = ' '.join([para.get_text() for para in paragraphs])\n",
    "    return article_text"
   ]
  },
  {
   "cell_type": "code",
   "execution_count": 13,
   "metadata": {},
   "outputs": [],
   "source": [
    "\n",
    "def analyze_subject_sentiment(text):\n",
    "    try:\n",
    "        response = bedrock_client.invoke_model(\n",
    "            modelId=\"anthropic.claude-3-sonnet-20240229-v1:0\",\n",
    "            contentType=\"application/json\",\n",
    "            accept=\"application/json\",\n",
    "            body=json.dumps({\n",
    "                \"anthropic_version\": \"bedrock-2023-05-31\",\n",
    "                \"max_tokens\": 100,\n",
    "                \"temperature\": 0.5,\n",
    "                \"messages\": [\n",
    "                    {\"role\": \"user\", \"content\": f\"Donne uniquement sujet principal de cet article ainsi que le sentiment du text associé sans explicatioN: \\\"{text}\\\"\"}\n",
    "                ]\n",
    "            })\n",
    "        )\n",
    "        \n",
    "        response_body = json.loads(response['body'].read().decode('utf-8'))\n",
    "        content = response_body.get(\"content\")\n",
    "        \n",
    "        subject_analysis = content[0][\"text\"] if content else \"Pas de sujet détecté\"\n",
    "        return subject_analysis\n",
    "    \n",
    "    except Exception as e:\n",
    "        print(\"Erreur d'analyse du sujet :\", e)\n",
    "        return None\n",
    "\n"
   ]
  },
  {
   "cell_type": "code",
   "execution_count": 14,
   "metadata": {},
   "outputs": [],
   "source": [
    "\n",
    "# Fonction principale pour obtenir les informations d'actualité avec sujet et sentiment\n",
    "def get_news_with_sentiment(ticker):\n",
    "    \n",
    "\n",
    "    news = ticker.news\n",
    "    sentiment_output = ''\n",
    "    \n",
    "    for item in news:\n",
    "        title = item.get('title')\n",
    "        link = item.get('link')\n",
    "        source = item.get('publisher')\n",
    "        \n",
    "        # Extraire le texte de l'article\n",
    "        article_text = extract_article_text(link)\n",
    "        \n",
    "        # Analyser le sujet et le sentiment\n",
    "        subject_sentiment = analyze_subject_sentiment(article_text)\n",
    "        \n",
    "        sentiment_output += title + subject_sentiment\n",
    "        \n",
    "\n",
    "    return sentiment_output"
   ]
  },
  {
   "cell_type": "code",
   "execution_count": 15,
   "metadata": {},
   "outputs": [],
   "source": [
    "sentiment_output = get_news_with_sentiment(ticker)"
   ]
  },
  {
   "cell_type": "code",
   "execution_count": 16,
   "metadata": {},
   "outputs": [
    {
     "data": {
      "text/plain": [
       "\"Buffett Keeps Cutting Apple Stake, With Value Down 60% This YearSujet principal : L'article traite principalement des ventes continues d'actions Apple par Berkshire Hathaway au troisième trimestre 2023, réduisant considérablement leur participation dans la société technologique.\\n\\nSentiment : Le ton général de l'article semble neutre et factuel en rapportant les chiffres et les détails financiers liés aux ventes d'actions Apple par Berkshire H3 Things Apple Doesn't Want to Talk AboutSujet principal: Problème technique en cours de résolution\\n\\nSentiment: RassurantBig Pension Sold Palantir, Apple, and Nvidia Stock. It Bought AMD.Sujet principal: Problème technique\\n\\nSentiment: RassurantApple Intelligence Products Could Make Up For Apple’s (AAPL) iPhone WeaknessSujet principal : L'article traite des défis auxquels Apple est confronté en matière d'intégration de l'intelligence artificielle générative dans ses produits, en particulier l'iPhone, et des attentes des investisseurs concernant le nouveau Mac Mini avec fonctionnalités d'intelligence artificielle.\\n\\nSentiment du texte : NeutrePixelmator announces agreement to be acquired by AppleSujet principal: L'acquisition de Pixelmator par Apple.\\n\\nSentiment: Positif/Enthousiaste.Berkshire Hathaway’s Cash Pile Reaches Record $325.2 BillionSujet principal : L'accumulation record de trésorerie de Berkshire Hathaway atteignant 325,2 milliards de dollars au troisième trimestre, Warren Buffett s'abstenant d'acquisitions majeures tout en réduisant certaines de ses principales participations en actions.\\n\\nSentiment : Neutre. L'article présente des faits et des chiffres sur la situation financière deWarren Buffett's Berkshire Hathaway Sells Apple Stock, Boosts Cash Pile to RecordSujet principal: Problème technique\\n\\nSentiment: RassurantWarren Buffett’s Berkshire Hathaway Slashes Apple Stake AgainSujet principal: Vente d'actions Apple par Berkshire Hathaway de Warren Buffett au troisième trimestre.\\n\\nSentiment du texte: Neutre\""
      ]
     },
     "execution_count": 16,
     "metadata": {},
     "output_type": "execute_result"
    }
   ],
   "source": [
    "sentiment_output"
   ]
  },
  {
   "cell_type": "markdown",
   "metadata": {},
   "source": [
    "Macro"
   ]
  },
  {
   "cell_type": "code",
   "execution_count": 17,
   "metadata": {},
   "outputs": [],
   "source": [
    "def caption_summary(text,max_token):\n",
    "    try:\n",
    "        response = bedrock_client.invoke_model(\n",
    "            modelId=\"anthropic.claude-3-sonnet-20240229-v1:0\",\n",
    "            contentType=\"application/json\",\n",
    "            accept=\"application/json\",\n",
    "            body=json.dumps({\n",
    "                \"anthropic_version\": \"bedrock-2023-05-31\",\n",
    "                \"max_tokens\": max_token,\n",
    "                \"temperature\": 0.5,\n",
    "                \"messages\": [\n",
    "                    {\"role\": \"user\", \"content\": f\"Tu es un macro économiste, rédige un résumé des points clés  macro économique des différents sujets, avec détails (ex chiffres) : \\\"{text}\\\"\"}\n",
    "                ]\n",
    "            })\n",
    "        )\n",
    "\n",
    "        response_body = json.loads(response['body'].read().decode('utf-8'))\n",
    "        content = response_body.get(\"content\")\n",
    "        \n",
    "        sentiment_analysis = content[0][\"text\"] if content else \"Pas de sentiment détecté\"\n",
    "        return sentiment_analysis\n",
    "    \n",
    "    except Exception as e:\n",
    "        print(\"Erreur d'analyse de sentiment :\", e)"
   ]
  },
  {
   "cell_type": "code",
   "execution_count": null,
   "metadata": {},
   "outputs": [],
   "source": [
    "\n",
    "def get_macro_news() :\n",
    "    tickers = {\n",
    "        \"^GSPC\": \"S&P 500 - Indice Boursier\",\n",
    "        \"DX-Y.NYB\": \"Indice du Dollar Américain\",\n",
    "        \"^TNX\": \"Taux des Obligations à 10 ans\",\n",
    "        \"GC=F\": \"Prix de l'Or\",\n",
    "        \"CL=F\": \"Prix du Pétrole (WTI)\",\n",
    "        \"^VIX\": \"VIX - Volatilité des Marchés\"\n",
    "    }\n",
    "    \n",
    "    output_text = \"\"\n",
    "    for ticker_symbol, description in tickers.items():\n",
    "        ticker = yf.Ticker(ticker_symbol)\n",
    "        news_items = ticker.news\n",
    "        \n",
    "        for item in news_items[:2]:\n",
    "          \n",
    "            text_article = extract_article_text(item[\"link\"])\n",
    "            if text_article != \"Thank you for your patience. Our engineers are working quickly to resolve the issue.\" :\n",
    "                text = caption_summary(text_article,150)\n",
    "                \n",
    "                output_text += text\n",
    "    caption_macro = caption_summary(output_text,max_token=300)\n",
    "    return caption_macro"
   ]
  },
  {
   "cell_type": "code",
   "execution_count": 19,
   "metadata": {},
   "outputs": [
    {
     "name": "stdout",
     "output_type": "stream",
     "text": [
      "https://finance.yahoo.com/m/39e73445-7dad-3bea-b61b-110bffbecc33/buy-these-3-high-yield.html\n",
      "https://finance.yahoo.com/news/2024-election-top-portfolio-plays-for-a-trump-or-harris-victory-171809111.html\n",
      "Voici un résumé des points clés macroéconomiques abordés dans le texte, avec quelques détails chiffrés:\n",
      "\n",
      "Marchés financiers:\n",
      "- L'élection présidentielle de 2024 est très serrée et devrait engendrer de la volatilité sur les marchés. Les prédictions donnent actuellement 59,5% de chances à Donald Trump d'être réélu.\n",
      "- Cette perspective a relancé les \"Trump trades\": baisse des obligations d'État et hausse de l'or (+34% depuis le début de l'année, clôturant à 2734 $/\n",
      "https://finance.yahoo.com/news/solventum-corporation-solv-promising-medical-183818623.html\n",
      "Voici un résumé des principaux points macroéconomiques avec des détails chiffrés :\n",
      "\n",
      "Le secteur des dispositifs médicaux, estimé à 570 milliards de dollars en 2022, devrait connaître un taux de croissance annuel composé (TCAC) de 5,8% entre 2023 et 2032, atteignant 996,93 milliards de dollars. Aux États-Unis, ce marché devrait atteindre 246,51 milliards de dollars d'ici 2032, avec un TCAC de 5,6%.\n",
      "\n",
      "Les moteurs\n",
      "https://finance.yahoo.com/news/globus-medical-inc-gmed-promising-183808642.html\n",
      "Voici un résumé des points clés macroéconomiques avec des détails chiffrés:\n",
      "\n",
      "Marché mondial des dispositifs médicaux:\n",
      "- Valeur estimée à 570 milliards de dollars en 2022\n",
      "- Devrait croître à un TCAC de 5,8% entre 2023 et 2032 pour atteindre 996,93 milliards de dollars\n",
      "- Aux États-Unis, le marché devrait atteindre 246,51 milliards de dollars en 2032 avec un TCAC de 5,6%\n",
      "\n",
      "Moteurs de croissance\n",
      "https://finance.yahoo.com/m/3cf3e266-e785-3513-956e-e1b5d0fa28f9/jobs-report-shocker-puts-fed.html\n",
      "https://finance.yahoo.com/m/5d6f6610-9026-3405-b76b-3acff01ce48b/track-current-stock-market.html\n",
      "https://finance.yahoo.com/news/2024-election-top-portfolio-plays-for-a-trump-or-harris-victory-171809111.html\n",
      "Voici un résumé des principaux points macroéconomiques abordés dans ce texte, avec quelques détails chiffrés:\n",
      "\n",
      "Marchés financiers et élection présidentielle 2024:\n",
      "- L'indice S&P 500 a progressé de 20% depuis le début de l'année, ce qui en fait la meilleure année électorale jusqu'en octobre depuis 1936.\n",
      "- Les marchés anticipent cependant une hausse de la volatilité à l'approche de l'élection présidentielle très serrée.\n",
      "- Les prédictions de marché donnent actuellement 59,\n",
      "https://finance.yahoo.com/news/gold-is-hovering-near-all-time-highs-heres-how-investors-can-play-the-craze-151439123.html\n",
      "Voici un résumé des points clés macroéconomiques sur les différents sujets abordés, avec des détails chiffrés :\n",
      "\n",
      "Marché de l'or et de l'argent :\n",
      "- L'or flirte avec un niveau record autour de 2700$ l'once \n",
      "- L'argent se négocie près de ses plus hauts niveaux depuis 12 ans\n",
      "- Goldman Sachs prévoit une hausse de l'or d'environ 10% à 3000$ d'ici décembre 2025, en raison de la demande physique des banques centrales,\n",
      "https://finance.yahoo.com/news/oil-prices-jump-on-report-iran-may-be-preparing-attack-against-israel-161323068.html\n",
      "Voici un résumé des principaux points macroéconomiques avec des détails chiffrés :\n",
      "\n",
      "• Les prix du pétrole ont bondi de plus de 2% vendredi avant de réduire leurs gains, suite à un rapport selon lequel l'Iran pourrait préparer une attaque contre Israël. Cette escalade des tensions géopolitiques au Moyen-Orient a remis le marché pétrolier au centre des préoccupations.\n",
      "\n",
      "• Le cours du West Texas Intermediate (WTI) a grimpé pour se négocier au-dessus de 70 dollars le baril, tandis que le B\n",
      "https://finance.yahoo.com/video/oil-prices-rise-amid-reports-141253657.html\n",
      "https://finance.yahoo.com/news/stock-market-news-nov-1-130900925.html\n",
      "Voici un résumé des points clés macroéconomiques avec les détails chiffrés :\n",
      "\n",
      "Inflation :\n",
      "- L'indice des dépenses de consommation personnelle (PCE) a augmenté de 0,2% en septembre, portant le taux annuel à 2,1%, se rapprochant de l'objectif de 2% de la Réserve fédérale.\n",
      "- L'inflation sous-jacente, hors alimentation et énergie, a augmenté de 0,3% sur le mois et de 2,7% sur un an, légèrement au-dess\n",
      "https://finance.yahoo.com/news/stock-market-news-oct-31-132000905.html\n",
      "Voici un résumé des points clés macroéconomiques avec les détails chiffrés:\n",
      "\n",
      "Croissance économique:\n",
      "- Le PIB des États-Unis a augmenté de 2,8% au 3ème trimestre 2024, légèrement inférieur aux prévisions de 3,1%.\n",
      "- La consommation des ménages, moteur de l'économie américaine, a progressé de 3,7%, son rythme le plus élevé depuis début 2023, contribuant fortement à la croissance du PIB.\n",
      "\n",
      "Marché du travail:\n",
      "- Le secteur privé\n"
     ]
    }
   ],
   "source": [
    "output_macro = get_macro_news()"
   ]
  },
  {
   "cell_type": "code",
   "execution_count": 20,
   "metadata": {},
   "outputs": [
    {
     "data": {
      "text/plain": [
       "'Voici un résumé des points clés macroéconomiques abordés, avec des détails chiffrés :\\n\\nMarchés financiers :\\n- L\\'élection présidentielle de 2024 est très serrée et devrait engendrer de la volatilité sur les marchés. Les prédictions donnent actuellement 59,5% de chances à Donald Trump d\\'être réélu.\\n- Cette perspective a relancé les \"Trump trades\" : baisse des obligations d\\'État et hausse de l\\'or (+34% depuis le début de l\\'année, clôturant à 2734 $/once).\\n- L\\'indice S&P 500 a progressé de 20% depuis janvier, sa meilleure performance en année électorale jusqu\\'en octobre depuis 1936.\\n\\nOr et argent :\\n- L\\'or flirte avec un niveau record autour de 2700$/once.\\n- L\\'argent se négocie près de ses plus hauts depuis 12 ans.\\n- Goldman Sachs prévoit une hausse de l\\'or d\\'environ 10% à 3000$/once d\\'ici fin 2025, portée par la demande des banques centrales.\\n\\nPétrole :\\n- Les prix ont bondi'"
      ]
     },
     "execution_count": 20,
     "metadata": {},
     "output_type": "execute_result"
    }
   ],
   "source": [
    "output_macro"
   ]
  },
  {
   "cell_type": "code",
   "execution_count": 22,
   "metadata": {},
   "outputs": [
    {
     "name": "stdout",
     "output_type": "stream",
     "text": [
      "Réponse de l'agent : Voici une analyse fondamentale détaillée d'Apple (AAPL) :\n",
      "\n",
      "Contexte macroéconomique :\n",
      "- L'environnement macroéconomique est marqué par une forte volatilité des marchés financiers, avec une élection présidentielle américaine très serrée prévue en 2024. Cela se traduit par une hausse de l'or (+34% depuis le début de l'année) et une progression de 20% de l'indice S&P 500 depuis janvier. \n",
      "- Les prix du pétrole ont également bondi ces derniers mois, ce qui peut impacter les coûts d'Apple et la demande pour ses produits.\n",
      "\n",
      "Situation d'Apple :\n",
      "- Apple fait face à des défis techniques et d'intégration de l'intelligence artificielle générative dans ses produits, en particulier l'iPhone, qui reste son principal moteur de croissance. \n",
      "- Malgré ces défis, Apple continue d'innover avec de nouveaux produits comme le nouveau Mac Mini doté de fonctionnalités d'IA, qui suscitent l'intérêt des investisseurs.\n",
      "- Sur le plan financier, Apple affiche des résultats solides avec un chiffre d'affaires de 394 milliards de dollars en 2022 et une marge opérationnelle de 30%. Cependant, sa valorisation boursière a baissé de 60% depuis le début de l'année.\n",
      "- Fait notable, le conglomérat Berkshire Hathaway de Warren Buffett a continué de réduire sa participation dans Apple au 3e trimestre 2023, passant de 5,8% à 4,2% du capital.\n",
      "\n",
      "En conclusion, Apple reste une entreprise technologique de premier plan, avec un modèle d'affaires résilient et une capacité d'innovation reconnue. Cependant, elle doit relever des défis techniques et faire face à un contexte macroéconomique volatil, ce qui se traduit par une baisse de sa valorisation boursière. Les investisseurs suivront avec attention la capacité d'Apple à intégrer l'IA dans ses produits et à maintenir sa dynamique de croissance.\n"
     ]
    }
   ],
   "source": [
    "# Exemple d'appel avec un *prompt* utilisateur\n",
    "user_prompt = \"Peux tu réaliser une analyse de AAPL ?\"\n",
    "promt = user_prompt + \"Context macro suppélementaire :\" + output_macro + \"Sujets et sentiments actuelles autour de l'entreprise :\" + sentiment_output\n",
    "response = call_agent_with_prompt(promt)\n",
    "print(\"Réponse de l'agent :\", response)"
   ]
  },
  {
   "cell_type": "code",
   "execution_count": null,
   "metadata": {},
   "outputs": [],
   "source": []
  }
 ],
 "metadata": {
  "kernelspec": {
   "display_name": ".venv",
   "language": "python",
   "name": "python3"
  },
  "language_info": {
   "codemirror_mode": {
    "name": "ipython",
    "version": 3
   },
   "file_extension": ".py",
   "mimetype": "text/x-python",
   "name": "python",
   "nbconvert_exporter": "python",
   "pygments_lexer": "ipython3",
   "version": "3.11.3"
  }
 },
 "nbformat": 4,
 "nbformat_minor": 2
}
