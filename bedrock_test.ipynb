{
 "cells": [
  {
   "cell_type": "code",
   "execution_count": 1,
   "metadata": {},
   "outputs": [],
   "source": [
    "import logging\n",
    "import boto3\n",
    "from botocore.exceptions import ClientError\n",
    "import json\n",
    "import os\n",
    "from dotenv import load_dotenv"
   ]
  },
  {
   "cell_type": "code",
   "execution_count": 2,
   "metadata": {},
   "outputs": [
    {
     "data": {
      "text/plain": [
       "True"
      ]
     },
     "execution_count": 2,
     "metadata": {},
     "output_type": "execute_result"
    }
   ],
   "source": [
    "load_dotenv()"
   ]
  },
  {
   "cell_type": "markdown",
   "metadata": {},
   "source": [
    "## Sentiment Analysis"
   ]
  },
  {
   "cell_type": "code",
   "execution_count": 3,
   "metadata": {},
   "outputs": [],
   "source": [
    "access_key = os.getenv(\"AWS_ACCESS_KEY_ID\")\n",
    "secret_key = os.getenv(\"AWS_SECRET_ACCESS_KEY\")\n",
    "session_token = os.getenv(\"AWS_SESSION_KEY\")\n",
    "region_name = os.getenv(\"AWS_DEFAULT_REGION\")\n"
   ]
  },
  {
   "cell_type": "code",
   "execution_count": 4,
   "metadata": {},
   "outputs": [],
   "source": [
    "region_name = 'us-west-2'\n",
    "bedrock_client = boto3.client('bedrock-runtime', region_name=region_name,\n",
    "    aws_access_key_id=access_key,\n",
    "    aws_secret_access_key=secret_key,\n",
    "    aws_session_token=session_token  )\n"
   ]
  },
  {
   "cell_type": "code",
   "execution_count": 5,
   "metadata": {},
   "outputs": [],
   "source": [
    "# Fonction pour l'analyse de sentiment en utilisant l'API Messages de Claude 3\n",
    "def analyze_sentiment(text):\n",
    "    try:\n",
    "        # Préparation de la requête pour l'API Messages\n",
    "        response = bedrock_client.invoke_model(\n",
    "            modelId=\"anthropic.claude-3-sonnet-20240229-v1:0\",\n",
    "            contentType=\"application/json\",\n",
    "            accept=\"application/json\",\n",
    "            body=json.dumps({\n",
    "                \"anthropic_version\": \"bedrock-2023-05-31\",\n",
    "                \"max_tokens\": 50,\n",
    "                \"temperature\": 0.5,\n",
    "                \"messages\": [\n",
    "                    {\"role\": \"user\", \"content\": f\"Analyse le sentiment de ce texte : \\\"{text}\\\"\"}\n",
    "                ]\n",
    "            })\n",
    "        )\n",
    "\n",
    "        # Affichage de la réponse brute pour diagnostic\n",
    "        response_body = json.loads(response['body'].read().decode('utf-8'))\n",
    "        \n",
    "        # Vérification de la structure de la réponse et extraction du texte\n",
    "        content = response_body.get(\"content\")\n",
    "        if isinstance(content, list):\n",
    "            sentiment_analysis = \" \".join([part[\"text\"] for part in content if \"text\" in part])\n",
    "        else:\n",
    "            sentiment_analysis = content  # Directement utiliser le contenu si c'est une chaîne\n",
    "        \n",
    "        return sentiment_analysis or \"Pas de résultat détecté\"\n",
    "    except Exception as e:\n",
    "        print(\"Erreur :\", e)\n",
    "        return None"
   ]
  },
  {
   "cell_type": "code",
   "execution_count": 6,
   "metadata": {},
   "outputs": [],
   "source": [
    "# # Exemple d'utilisation\n",
    "# text_to_analyze = \"J'aime pas le fromage.\"\n",
    "# result = analyze_sentiment(text_to_analyze)\n",
    "# print(\"Analyse de sentiment :\", result)"
   ]
  },
  {
   "cell_type": "markdown",
   "metadata": {},
   "source": [
    "## RAG Agent"
   ]
  },
  {
   "cell_type": "code",
   "execution_count": 7,
   "metadata": {},
   "outputs": [],
   "source": [
    "agent_id = os.getenv(\"AGENT_ID\")\n",
    "agent_alias = os.getenv(\"AGENT_ALIAS\")"
   ]
  },
  {
   "cell_type": "code",
   "execution_count": 8,
   "metadata": {},
   "outputs": [],
   "source": [
    "runtime_client=boto3.client(\n",
    "    service_name=\"bedrock-agent-runtime\",\n",
    "    region_name=region_name,\n",
    "    aws_access_key_id=access_key,\n",
    "    aws_secret_access_key=secret_key,\n",
    "    aws_session_token=session_token  # Facultatif\n",
    "),\n"
   ]
  },
  {
   "cell_type": "code",
   "execution_count": 9,
   "metadata": {},
   "outputs": [
    {
     "data": {
      "text/plain": [
       "<botocore.client.AgentsforBedrockRuntime at 0x14e2c46f3d0>"
      ]
     },
     "execution_count": 9,
     "metadata": {},
     "output_type": "execute_result"
    }
   ],
   "source": [
    "runtime_client[0]"
   ]
  },
  {
   "cell_type": "code",
   "execution_count": 10,
   "metadata": {},
   "outputs": [],
   "source": [
    "import uuid\n",
    "session_id = str(uuid.uuid4())\n",
    "\n",
    "# Function to call the agent with a user prompt\n",
    "def call_agent_with_prompt(user_prompt):\n",
    "    try:\n",
    "        # Invoke the agent without invalid parameters\n",
    "        response = runtime_client[0].invoke_agent(\n",
    "            agentId=agent_id,\n",
    "            agentAliasId=agent_alias,  # Include this if you have an agent alias\n",
    "            sessionId=session_id,\n",
    "            inputText=user_prompt,\n",
    "            #enableTrace=True\n",
    "        )\n",
    "        event_stream = response.get('completion')\n",
    "        response_text = ''\n",
    "\n",
    "        # Parcourir l'EventStream pour obtenir la réponse\n",
    "        for event in event_stream:\n",
    "            # Chaque événement est un dictionnaire contenant les données de l'événement\n",
    "            # Pour la génération de texte, les données sont sous la clé 'chunk'\n",
    "            if 'chunk' in event:\n",
    "                chunk = event['chunk']\n",
    "                # La clé 'bytes' contient le texte généré\n",
    "                content = chunk.get('bytes', b'').decode('utf-8')\n",
    "                response_text += content\n",
    "            else:\n",
    "                print(\"Événement non traité :\", event)\n",
    "\n",
    "        return response_text\n",
    "\n",
    "    except Exception as e:\n",
    "        print(\"Erreur lors de l'appel à l'agent :\", e)\n",
    "        return None"
   ]
  },
  {
   "cell_type": "code",
   "execution_count": 11,
   "metadata": {},
   "outputs": [],
   "source": [
    "# # Exemple d'appel avec un *prompt* utilisateur\n",
    "# user_prompt = \"Peux tu analyser une analyse fondamentale de Accenture ?\"\n",
    "# response = call_agent_with_prompt(user_prompt)\n",
    "# print(\"Réponse de l'agent :\", response)\n"
   ]
  },
  {
   "cell_type": "markdown",
   "metadata": {},
   "source": [
    "## Agent + macro + sentiment"
   ]
  },
  {
   "cell_type": "code",
   "execution_count": 12,
   "metadata": {},
   "outputs": [],
   "source": [
    "import yfinance as yf\n",
    "import pandas as pd"
   ]
  },
  {
   "cell_type": "code",
   "execution_count": 13,
   "metadata": {},
   "outputs": [],
   "source": [
    "ticker = yf.Ticker(\"AAPL\")"
   ]
  },
  {
   "cell_type": "markdown",
   "metadata": {},
   "source": [
    "Sentiment"
   ]
  },
  {
   "cell_type": "code",
   "execution_count": 14,
   "metadata": {},
   "outputs": [],
   "source": [
    "import requests\n",
    "from bs4 import BeautifulSoup\n",
    "import json\n",
    "\n",
    "# Fonction pour extraire le texte principal de l'article\n",
    "def extract_article_text(url):\n",
    "    response = requests.get(url)\n",
    "    soup = BeautifulSoup(response.content, 'html.parser')\n",
    "    \n",
    "    # Extraction des paragraphes de l'article\n",
    "    paragraphs = soup.find_all('p')\n",
    "    article_text = ' '.join([para.get_text() for para in paragraphs])\n",
    "    return article_text"
   ]
  },
  {
   "cell_type": "code",
   "execution_count": 15,
   "metadata": {},
   "outputs": [],
   "source": [
    "\n",
    "def analyze_subject_sentiment(text):\n",
    "    try:\n",
    "        response = bedrock_client.invoke_model(\n",
    "            modelId=\"anthropic.claude-3-sonnet-20240229-v1:0\",\n",
    "            contentType=\"application/json\",\n",
    "            accept=\"application/json\",\n",
    "            body=json.dumps({\n",
    "                \"anthropic_version\": \"bedrock-2023-05-31\",\n",
    "                \"max_tokens\": 100,\n",
    "                \"temperature\": 0.5,\n",
    "                \"messages\": [\n",
    "                    {\"role\": \"user\", \"content\": f\"Donne uniquement sujet principal de cet article ainsi que le sentiment du text associé sans explicatioN: \\\"{text}\\\"\"}\n",
    "                ]\n",
    "            })\n",
    "        )\n",
    "        \n",
    "        response_body = json.loads(response['body'].read().decode('utf-8'))\n",
    "        content = response_body.get(\"content\")\n",
    "        \n",
    "        subject_analysis = content[0][\"text\"] if content else \"Pas de sujet détecté\"\n",
    "        return subject_analysis\n",
    "    \n",
    "    except Exception as e:\n",
    "        print(\"Erreur d'analyse du sujet :\", e)\n",
    "        return None\n",
    "\n"
   ]
  },
  {
   "cell_type": "code",
   "execution_count": 16,
   "metadata": {},
   "outputs": [],
   "source": [
    "\n",
    "# Fonction principale pour obtenir les informations d'actualité avec sujet et sentiment\n",
    "def get_news_with_sentiment(ticker):\n",
    "    \n",
    "\n",
    "    news = ticker.news\n",
    "    sentiment_output = ''\n",
    "    \n",
    "    for item in news:\n",
    "        title = item.get('title')\n",
    "        link = item.get('link')\n",
    "        source = item.get('publisher')\n",
    "        \n",
    "        # Extraire le texte de l'article\n",
    "        article_text = extract_article_text(link)\n",
    "        \n",
    "        # Analyser le sujet et le sentiment\n",
    "        subject_sentiment = analyze_subject_sentiment(article_text)\n",
    "        \n",
    "        sentiment_output += title + subject_sentiment\n",
    "        \n",
    "\n",
    "    return sentiment_output"
   ]
  },
  {
   "cell_type": "code",
   "execution_count": 17,
   "metadata": {},
   "outputs": [],
   "source": [
    "sentiment_output = get_news_with_sentiment(ticker)"
   ]
  },
  {
   "cell_type": "code",
   "execution_count": 18,
   "metadata": {},
   "outputs": [
    {
     "data": {
      "text/plain": [
       "'Buffett Keeps Cutting Apple Stake, With Value Down 60% This YearSujet principal: Ventes d\\'actions Apple par Berkshire Hathaway\\n\\nSentiment: Neutre3 Things Apple Doesn\\'t Want to Talk AboutSujet principal: Problème technique en cours de résolution\\n\\nSentiment: RassurantBig Pension Sold Palantir, Apple, and Nvidia Stock. It Bought AMD.Sujet principal: Problème technique en cours de résolution\\n\\nSentiment: Rassurant, positifApple Intelligence Products Could Make Up For Apple’s (AAPL) iPhone WeaknessLe sujet principal de l\\'article semble être les perspectives d\\'Apple dans la course à l\\'intelligence artificielle, en particulier avec le lancement imminent de son premier appareil \"Apple Intelligence\".\\n\\nLe sentiment général du texte est mitigé, reconnaissant les défis actuels d\\'Apple comme les ventes d\\'iPhone décevantes et son retard dans la course à l\\'IA, mais restant optimiste quant au potPixelmator announces agreement to be acquired by AppleSujet principal: Acquisition de Pixelmator par Apple.\\n\\nSentiment du texte: Positif/Enthousiaste.Berkshire Hathaway’s Cash Pile Reaches Record $325.2 BillionLe sujet principal de cet article est l\\'augmentation record de la trésorerie de Berkshire Hathaway à 325,2 milliards de dollars au troisième trimestre 2022, alors que Warren Buffett continue de s\\'abstenir de grandes acquisitions tout en réduisant certaines de ses participations les plus importantes.\\n\\nLe sentiment général du texte est neutre, présentant des faits et des chWarren Buffett\\'s Berkshire Hathaway Sells Apple Stock, Boosts Cash Pile to RecordSujet principal: Problème technique\\nSentiment: RassurantWarren Buffett’s Berkshire Hathaway Slashes Apple Stake AgainSujet principal: Vente d\\'actions Apple par Berkshire Hathaway de Warren Buffett au troisième trimestre.\\n\\nSentiment: Neutre'"
      ]
     },
     "execution_count": 18,
     "metadata": {},
     "output_type": "execute_result"
    }
   ],
   "source": [
    "sentiment_output"
   ]
  },
  {
   "cell_type": "markdown",
   "metadata": {},
   "source": [
    "Macro"
   ]
  },
  {
   "cell_type": "code",
   "execution_count": 19,
   "metadata": {},
   "outputs": [],
   "source": [
    "def caption_summary(text,max_token):\n",
    "    try:\n",
    "        response = bedrock_client.invoke_model(\n",
    "            modelId=\"anthropic.claude-3-sonnet-20240229-v1:0\",\n",
    "            contentType=\"application/json\",\n",
    "            accept=\"application/json\",\n",
    "            body=json.dumps({\n",
    "                \"anthropic_version\": \"bedrock-2023-05-31\",\n",
    "                \"max_tokens\": max_token,\n",
    "                \"temperature\": 0.5,\n",
    "                \"messages\": [\n",
    "                    {\"role\": \"user\", \"content\": f\"Tu es un macro économiste, rédige un résumé des points clés  macro économique des différents sujets, avec détails (ex chiffres) : \\\"{text}\\\"\"}\n",
    "                ]\n",
    "            })\n",
    "        )\n",
    "\n",
    "        response_body = json.loads(response['body'].read().decode('utf-8'))\n",
    "        content = response_body.get(\"content\")\n",
    "        \n",
    "        sentiment_analysis = content[0][\"text\"] if content else \"Pas de sentiment détecté\"\n",
    "        return sentiment_analysis\n",
    "    \n",
    "    except Exception as e:\n",
    "        print(\"Erreur d'analyse de sentiment :\", e)"
   ]
  },
  {
   "cell_type": "code",
   "execution_count": 20,
   "metadata": {},
   "outputs": [],
   "source": [
    "\n",
    "def get_macro_news() :\n",
    "    tickers = {\n",
    "        \"^GSPC\": \"S&P 500 - Indice Boursier\",\n",
    "        \"DX-Y.NYB\": \"Indice du Dollar Américain\",\n",
    "        \"^TNX\": \"Taux des Obligations à 10 ans\",\n",
    "        \"GC=F\": \"Prix de l'Or\",\n",
    "        \"CL=F\": \"Prix du Pétrole (WTI)\",\n",
    "        \"^VIX\": \"VIX - Volatilité des Marchés\"\n",
    "    }\n",
    "    \n",
    "    output_text = \"\"\n",
    "    for ticker_symbol, description in tickers.items():\n",
    "        ticker = yf.Ticker(ticker_symbol)\n",
    "        news_items = ticker.news\n",
    "        \n",
    "        for item in news_items[:2]:\n",
    "            \n",
    "            text_article = extract_article_text(item[\"link\"])\n",
    "            if text_article != \"Thank you for your patience. Our engineers are working quickly to resolve the issue.\" :\n",
    "                text = caption_summary(text_article,150)\n",
    "                \n",
    "                output_text += text\n",
    "    caption_macro = caption_summary(output_text,max_token=300)\n",
    "    return caption_macro"
   ]
  },
  {
   "cell_type": "code",
   "execution_count": 21,
   "metadata": {},
   "outputs": [],
   "source": [
    "output_macro = get_macro_news()"
   ]
  },
  {
   "cell_type": "code",
   "execution_count": 22,
   "metadata": {},
   "outputs": [
    {
     "data": {
      "text/plain": [
       "\"Voici un résumé des principaux points macroéconomiques avec des détails chiffrés :\\n\\nÉlection présidentielle américaine 2024 :\\n- Le S&P 500 a progressé de 20% jusqu'à présent cette année, faisant de 2024 la meilleure année électorale jusqu'en octobre depuis 1936. \\n- Les marchés anticipent une forte volatilité en raison de la course serrée entre les candidats.\\n- Le marché des prédictions Polymarket montre une chance de 59,5% pour que Donald Trump remporte l'élection.\\n\\nImpacts économiques du conflit en Ukraine :\\n- Le prix du baril de pétrole Brent a dépassé les 100$ en raison des perturbations d'approvisionnement liées au conflit.\\n- L'inflation aux États-Unis a atteint 8,5% sur un an en mars 2022, son plus haut niveau depuis 40 ans.\\n- La Fed a relevé ses taux directeurs de 0,75 point de pourcentage en juin, sa plus forte hausse depuis 1994.\\n\\nMarchés des métaux précieux :  \\n- L'or évoluait autour d'un niveau record de\""
      ]
     },
     "execution_count": 22,
     "metadata": {},
     "output_type": "execute_result"
    }
   ],
   "source": [
    "output_macro"
   ]
  },
  {
   "cell_type": "code",
   "execution_count": 23,
   "metadata": {},
   "outputs": [
    {
     "name": "stdout",
     "output_type": "stream",
     "text": [
      "Réponse de l'agent : Voici un rapport détaillé en 5 parties sur l'entreprise Apple Inc. (AAPL) :\n",
      "\n",
      "1. Présentation de l'entreprise :\n",
      "Apple Inc. est une entreprise américaine spécialisée dans la conception, la fabrication et la commercialisation de smartphones, d'ordinateurs personnels, de tablettes, de produits connectés et d'accessoires. Basée à Cupertino en Californie, Apple emploie environ 150 000 personnes dans le monde. L'entreprise opère dans le secteur de la technologie et fait partie de l'indice S&P 500.\n",
      "\n",
      "2. Indicateurs financiers clés :\n",
      "- Chiffre d'affaires : Apple a généré un chiffre d'affaires de 7,4 à 8,1 milliards de dollars par trimestre en 2023-2024.\n",
      "- EBITDA ajusté : L'EBITDA ajusté d'Apple se situe entre 492,5 et 723 millions de dollars par trimestre.\n",
      "- Bénéfice net ajusté : Le bénéfice net ajusté d'Apple varie entre 125,7 et 261 millions de dollars par trimestre.\n",
      "- Dividende : Apple verse un dividende trimestriel d'environ 0,63 dollar par action, avec un ratio de distribution de 16,12%.\n",
      "- Valorisation : Apple se négocie à un ratio cours/bénéfice (P/E) de 36,6 sur la base des résultats passés et 26,7 sur la base des prévisions.\n",
      "\n",
      "\n",
      "\n",
      "3. Sujets et sentiments actuels :\n",
      "- Ventes d'actions Apple par Berkshire Hathaway : Warren Buffett continue de réduire progressivement sa participation dans Apple, avec une baisse de 60% de la valeur de son investissement depuis le début de l'année. Le sentiment est plutôt neutre sur ce sujet.\n",
      "- Problèmes techniques en cours de résolution : Certains articles mentionnent des problèmes techniques chez Apple, mais le sentiment général est rassurant, indiquant que ces problèmes sont en voie d'être résolus.\n",
      "- Perspectives dans l'intelligence artificielle : Apple semble bien positionné pour tirer parti de la course à l'IA, avec le lancement imminent de son premier appareil \"Apple Intelligence\". Le sentiment est mitigé, reconnaissant les défis actuels d'Apple tout en restant optimiste sur ses perspectives.\n",
      "- Acquisition de Pixelmator : L'acquisition de la société Pixelmator par Apple est perçue de manière positive et enthousiaste.\n",
      "\n",
      "\n",
      "\n",
      "\n",
      "4. Contexte macroéconomique :\n",
      "- Élection présidentielle américaine 2024 : Le marché anticipe une forte volatilité en raison de la course serrée entre les candidats, avec une probabilité de 59,5% pour que Donald Trump remporte l'élection.\n",
      "- Impacts du conflit en Ukraine : Le prix du baril de pétrole Brent a dépassé les 100$, entraînant une inflation élevée aux États-Unis (8,5% sur un an en mars 2022) et des hausses de taux de la Réserve fédérale.\n",
      "- Marchés des métaux précieux : L'or évolue autour d'un niveau record.\n",
      "\n",
      "5. Conclusion :\n",
      "Apple reste une entreprise solide, leader dans son secteur, avec des indicateurs financiers sains malgré quelques défis à court terme. Les perspectives à moyen terme semblent positives, notamment dans la course à l'intelligence artificielle. Cependant, le contexte macroéconomique incertain, avec la prochaine élection présidentielle américaine et les impacts du conflit en Ukraine, pourrait peser sur la performance de l'action à court terme.\n"
     ]
    }
   ],
   "source": [
    "# Exemple d'appel avec un *prompt* utilisateur\n",
    "user_prompt = \"Réalise le rapport sur AAPL en détaillant les 5 parties ?\"\n",
    "promt = user_prompt + \"Context macro suppélementaire :\" + output_macro + \"Sujets et sentiments actuelles autour de l'entreprise :\" + sentiment_output\n",
    "response = call_agent_with_prompt(promt)\n",
    "print(\"Réponse de l'agent :\", response)"
   ]
  },
  {
   "cell_type": "code",
   "execution_count": null,
   "metadata": {},
   "outputs": [],
   "source": []
  }
 ],
 "metadata": {
  "kernelspec": {
   "display_name": ".venv",
   "language": "python",
   "name": "python3"
  },
  "language_info": {
   "codemirror_mode": {
    "name": "ipython",
    "version": 3
   },
   "file_extension": ".py",
   "mimetype": "text/x-python",
   "name": "python",
   "nbconvert_exporter": "python",
   "pygments_lexer": "ipython3",
   "version": "3.11.3"
  }
 },
 "nbformat": 4,
 "nbformat_minor": 2
}
