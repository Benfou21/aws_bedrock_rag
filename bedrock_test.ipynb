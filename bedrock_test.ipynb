{
 "cells": [
  {
   "cell_type": "code",
   "execution_count": 1,
   "metadata": {},
   "outputs": [],
   "source": [
    "import logging\n",
    "import boto3\n",
    "from botocore.exceptions import ClientError\n",
    "import json\n",
    "import os\n",
    "from dotenv import load_dotenv"
   ]
  },
  {
   "cell_type": "code",
   "execution_count": 2,
   "metadata": {},
   "outputs": [
    {
     "data": {
      "text/plain": [
       "True"
      ]
     },
     "execution_count": 2,
     "metadata": {},
     "output_type": "execute_result"
    }
   ],
   "source": [
    "load_dotenv()"
   ]
  },
  {
   "cell_type": "markdown",
   "metadata": {},
   "source": [
    "## Sentiment Analysis"
   ]
  },
  {
   "cell_type": "code",
   "execution_count": 7,
   "metadata": {},
   "outputs": [],
   "source": [
    "access_key = os.getenv(\"AWS_ACCESS_KEY_ID\")\n",
    "secret_key = os.getenv(\"AWS_SECRET_ACCESS_KEY\")\n",
    "session_token = os.getenv(\"AWS_SESSION_KEY\")\n",
    "region_name = os.getenv(\"AWS_DEFAULT_REGION\")\n"
   ]
  },
  {
   "cell_type": "code",
   "execution_count": null,
   "metadata": {},
   "outputs": [],
   "source": [
    "region_name = 'us-west-2'\n",
    "bedrock_client = boto3.client('bedrock-runtime', region_name=region_name,\n",
    "    aws_access_key_id=access_key,\n",
    "    aws_secret_access_key=secret_key,\n",
    "    aws_session_token=session_token  )\n"
   ]
  },
  {
   "cell_type": "code",
   "execution_count": 139,
   "metadata": {},
   "outputs": [],
   "source": [
    "# Fonction pour l'analyse de sentiment en utilisant l'API Messages de Claude 3\n",
    "def analyze_sentiment(text):\n",
    "    try:\n",
    "        # Préparation de la requête pour l'API Messages\n",
    "        response = bedrock_client.invoke_model(\n",
    "            modelId=\"anthropic.claude-3-sonnet-20240229-v1:0\",\n",
    "            contentType=\"application/json\",\n",
    "            accept=\"application/json\",\n",
    "            body=json.dumps({\n",
    "                \"anthropic_version\": \"bedrock-2023-05-31\",\n",
    "                \"max_tokens\": 50,\n",
    "                \"temperature\": 0.5,\n",
    "                \"messages\": [\n",
    "                    {\"role\": \"user\", \"content\": f\"Analyse le sentiment de ce texte : \\\"{text}\\\"\"}\n",
    "                ]\n",
    "            })\n",
    "        )\n",
    "\n",
    "        # Affichage de la réponse brute pour diagnostic\n",
    "        response_body = json.loads(response['body'].read().decode('utf-8'))\n",
    "        \n",
    "        # Vérification de la structure de la réponse et extraction du texte\n",
    "        content = response_body.get(\"content\")\n",
    "        if isinstance(content, list):\n",
    "            sentiment_analysis = \" \".join([part[\"text\"] for part in content if \"text\" in part])\n",
    "        else:\n",
    "            sentiment_analysis = content  # Directement utiliser le contenu si c'est une chaîne\n",
    "        \n",
    "        return sentiment_analysis or \"Pas de résultat détecté\"\n",
    "    except Exception as e:\n",
    "        print(\"Erreur :\", e)\n",
    "        return None"
   ]
  },
  {
   "cell_type": "code",
   "execution_count": 140,
   "metadata": {},
   "outputs": [
    {
     "name": "stdout",
     "output_type": "stream",
     "text": [
      "Erreur : 'tuple' object has no attribute 'invoke_model'\n",
      "Analyse de sentiment : None\n"
     ]
    }
   ],
   "source": [
    "# Exemple d'utilisation\n",
    "text_to_analyze = \"J'aime pas le fromage.\"\n",
    "result = analyze_sentiment(text_to_analyze)\n",
    "print(\"Analyse de sentiment :\", result)"
   ]
  },
  {
   "cell_type": "markdown",
   "metadata": {},
   "source": [
    "## RAG Agent"
   ]
  },
  {
   "cell_type": "code",
   "execution_count": 3,
   "metadata": {},
   "outputs": [],
   "source": [
    "agent_id = os.getenv(\"AGENT_ID\")\n",
    "agent_alias = os.getenv(\"AGENT_ALIAS\")"
   ]
  },
  {
   "cell_type": "code",
   "execution_count": 8,
   "metadata": {},
   "outputs": [],
   "source": [
    "runtime_client=boto3.client(\n",
    "    service_name=\"bedrock-agent-runtime\",\n",
    "    region_name=region_name,\n",
    "    aws_access_key_id=access_key,\n",
    "    aws_secret_access_key=secret_key,\n",
    "    aws_session_token=session_token  # Facultatif\n",
    "),\n"
   ]
  },
  {
   "cell_type": "code",
   "execution_count": 9,
   "metadata": {},
   "outputs": [
    {
     "data": {
      "text/plain": [
       "<botocore.client.AgentsforBedrockRuntime at 0x2bdc2bea850>"
      ]
     },
     "execution_count": 9,
     "metadata": {},
     "output_type": "execute_result"
    }
   ],
   "source": [
    "runtime_client[0]"
   ]
  },
  {
   "cell_type": "code",
   "execution_count": 10,
   "metadata": {},
   "outputs": [],
   "source": [
    "import uuid\n",
    "session_id = str(uuid.uuid4())\n",
    "\n",
    "# Function to call the agent with a user prompt\n",
    "def call_agent_with_prompt(user_prompt):\n",
    "    try:\n",
    "        # Invoke the agent without invalid parameters\n",
    "        response = runtime_client[0].invoke_agent(\n",
    "            agentId=agent_id,\n",
    "            agentAliasId=agent_alias,  # Include this if you have an agent alias\n",
    "            sessionId=session_id,\n",
    "            inputText=user_prompt,\n",
    "            #enableTrace=True\n",
    "        )\n",
    "        event_stream = response.get('completion')\n",
    "        response_text = ''\n",
    "\n",
    "        # Parcourir l'EventStream pour obtenir la réponse\n",
    "        for event in event_stream:\n",
    "            # Chaque événement est un dictionnaire contenant les données de l'événement\n",
    "            # Pour la génération de texte, les données sont sous la clé 'chunk'\n",
    "            if 'chunk' in event:\n",
    "                chunk = event['chunk']\n",
    "                # La clé 'bytes' contient le texte généré\n",
    "                content = chunk.get('bytes', b'').decode('utf-8')\n",
    "                response_text += content\n",
    "            else:\n",
    "                print(\"Événement non traité :\", event)\n",
    "\n",
    "        return response_text\n",
    "\n",
    "    except Exception as e:\n",
    "        print(\"Erreur lors de l'appel à l'agent :\", e)\n",
    "        return None"
   ]
  },
  {
   "cell_type": "code",
   "execution_count": 12,
   "metadata": {},
   "outputs": [
    {
     "name": "stdout",
     "output_type": "stream",
     "text": [
      "Réponse de l'agent : Voici une analyse fondamentale résumée d'AAPL :\n",
      "\n",
      "\n",
      "\n",
      "- Marges brutes élevées à 46,2% en 2024, en hausse par rapport aux années précédentes\n",
      "- Marges d'EBITDA stables autour de 7,6-7,7% sur les 3 dernières années\n",
      "- Croissance des ventes de 6,1% en 2024\n",
      "- Bilan solide avec un ratio dette/capitaux propres de 57,9% en 2024\n",
      "- Génération de cash-flow libre importante à 112,5 milliards de dollars en 2024\n",
      "- Rendement du dividende faible à 0,45%\n",
      "\n",
      "\n",
      "\n",
      "\n",
      "Dans l'ensemble, AAPL affiche de très bonnes performances opérationnelles avec des marges élevées et une forte génération de cash. Son bilan est également sain avec un endettement maîtrisé. Cependant, le rendement du dividende est assez faible, ce qui peut être un point de vigilance pour certains investisseurs.\n"
     ]
    }
   ],
   "source": [
    "# Exemple d'appel avec un *prompt* utilisateur\n",
    "user_prompt = \"Peux tu analyser une analyse fondamentale de AAPL ?\"\n",
    "response = call_agent_with_prompt(user_prompt)\n",
    "print(\"Réponse de l'agent :\", response)\n"
   ]
  },
  {
   "cell_type": "code",
   "execution_count": null,
   "metadata": {},
   "outputs": [],
   "source": []
  }
 ],
 "metadata": {
  "kernelspec": {
   "display_name": ".venv",
   "language": "python",
   "name": "python3"
  },
  "language_info": {
   "codemirror_mode": {
    "name": "ipython",
    "version": 3
   },
   "file_extension": ".py",
   "mimetype": "text/x-python",
   "name": "python",
   "nbconvert_exporter": "python",
   "pygments_lexer": "ipython3",
   "version": "3.11.3"
  }
 },
 "nbformat": 4,
 "nbformat_minor": 2
}
