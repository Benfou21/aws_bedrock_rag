{
 "cells": [
  {
   "cell_type": "code",
   "execution_count": 37,
   "metadata": {},
   "outputs": [],
   "source": [
    "import logging\n",
    "import boto3\n",
    "from botocore.exceptions import ClientError\n",
    "import json\n",
    "import os\n",
    "from dotenv import load_dotenv"
   ]
  },
  {
   "cell_type": "code",
   "execution_count": 185,
   "metadata": {},
   "outputs": [
    {
     "data": {
      "text/plain": [
       "True"
      ]
     },
     "execution_count": 185,
     "metadata": {},
     "output_type": "execute_result"
    }
   ],
   "source": [
    "load_dotenv()"
   ]
  },
  {
   "cell_type": "markdown",
   "metadata": {},
   "source": [
    "## Sentiment Analysis"
   ]
  },
  {
   "cell_type": "code",
   "execution_count": 85,
   "metadata": {},
   "outputs": [],
   "source": [
    "region_name = 'us-west-2'\n",
    "bedrock_client = boto3.client('bedrock-runtime', region_name=region_name)\n"
   ]
  },
  {
   "cell_type": "code",
   "execution_count": 102,
   "metadata": {},
   "outputs": [],
   "source": [
    "access_key = os.getenv(\"AWS_ACCESS_KEY_ID\")\n",
    "secret_key = os.getenv(\"AWS_SECRET_ACCESS_KEY\")\n",
    "session_token = os.getenv(\"AWS_SESSION_KEY\")\n",
    "region_name = os.getenv(\"AWS_DEFAULT_REGION\")\n"
   ]
  },
  {
   "cell_type": "code",
   "execution_count": 139,
   "metadata": {},
   "outputs": [],
   "source": [
    "# Fonction pour l'analyse de sentiment en utilisant l'API Messages de Claude 3\n",
    "def analyze_sentiment(text):\n",
    "    try:\n",
    "        # Préparation de la requête pour l'API Messages\n",
    "        response = bedrock_client.invoke_model(\n",
    "            modelId=\"anthropic.claude-3-sonnet-20240229-v1:0\",\n",
    "            contentType=\"application/json\",\n",
    "            accept=\"application/json\",\n",
    "            body=json.dumps({\n",
    "                \"anthropic_version\": \"bedrock-2023-05-31\",\n",
    "                \"max_tokens\": 50,\n",
    "                \"temperature\": 0.5,\n",
    "                \"messages\": [\n",
    "                    {\"role\": \"user\", \"content\": f\"Analyse le sentiment de ce texte : \\\"{text}\\\"\"}\n",
    "                ]\n",
    "            })\n",
    "        )\n",
    "\n",
    "        # Affichage de la réponse brute pour diagnostic\n",
    "        response_body = json.loads(response['body'].read().decode('utf-8'))\n",
    "        \n",
    "        # Vérification de la structure de la réponse et extraction du texte\n",
    "        content = response_body.get(\"content\")\n",
    "        if isinstance(content, list):\n",
    "            sentiment_analysis = \" \".join([part[\"text\"] for part in content if \"text\" in part])\n",
    "        else:\n",
    "            sentiment_analysis = content  # Directement utiliser le contenu si c'est une chaîne\n",
    "        \n",
    "        return sentiment_analysis or \"Pas de résultat détecté\"\n",
    "    except Exception as e:\n",
    "        print(\"Erreur :\", e)\n",
    "        return None"
   ]
  },
  {
   "cell_type": "code",
   "execution_count": 140,
   "metadata": {},
   "outputs": [
    {
     "name": "stdout",
     "output_type": "stream",
     "text": [
      "Erreur : 'tuple' object has no attribute 'invoke_model'\n",
      "Analyse de sentiment : None\n"
     ]
    }
   ],
   "source": [
    "# Exemple d'utilisation\n",
    "text_to_analyze = \"J'aime pas le fromage.\"\n",
    "result = analyze_sentiment(text_to_analyze)\n",
    "print(\"Analyse de sentiment :\", result)"
   ]
  },
  {
   "cell_type": "markdown",
   "metadata": {},
   "source": [
    "## RAG Agent"
   ]
  },
  {
   "cell_type": "code",
   "execution_count": 186,
   "metadata": {},
   "outputs": [],
   "source": [
    "agent_id = os.getenv(\"AGENT_ID\")\n",
    "agent_alias = os.getenv(\"AGENT_ALIAS\")"
   ]
  },
  {
   "cell_type": "code",
   "execution_count": 187,
   "metadata": {},
   "outputs": [],
   "source": [
    "\n",
    "\n",
    "runtime_client=boto3.client(\n",
    "    service_name=\"bedrock-agent-runtime\",\n",
    "    region_name=region_name,\n",
    "    aws_access_key_id=access_key,\n",
    "    aws_secret_access_key=secret_key,\n",
    "    aws_session_token=session_token  # Facultatif\n",
    "),\n"
   ]
  },
  {
   "cell_type": "code",
   "execution_count": 188,
   "metadata": {},
   "outputs": [
    {
     "data": {
      "text/plain": [
       "<botocore.client.AgentsforBedrockRuntime at 0x1b9cf0433d0>"
      ]
     },
     "execution_count": 188,
     "metadata": {},
     "output_type": "execute_result"
    }
   ],
   "source": [
    "runtime_client[0]"
   ]
  },
  {
   "cell_type": "code",
   "execution_count": 189,
   "metadata": {},
   "outputs": [],
   "source": [
    "import uuid\n",
    "session_id = str(uuid.uuid4())\n",
    "\n",
    "# Function to call the agent with a user prompt\n",
    "def call_agent_with_prompt(user_prompt):\n",
    "    try:\n",
    "        # Invoke the agent without invalid parameters\n",
    "        response = runtime_client[0].invoke_agent(\n",
    "            agentId=agent_id,\n",
    "            agentAliasId=agent_alias,  # Include this if you have an agent alias\n",
    "            sessionId=session_id,\n",
    "            inputText=user_prompt,\n",
    "            #enableTrace=True\n",
    "        )\n",
    "        event_stream = response.get('completion')\n",
    "        response_text = ''\n",
    "\n",
    "        # Parcourir l'EventStream pour obtenir la réponse\n",
    "        for event in event_stream:\n",
    "            # Chaque événement est un dictionnaire contenant les données de l'événement\n",
    "            # Pour la génération de texte, les données sont sous la clé 'chunk'\n",
    "            if 'chunk' in event:\n",
    "                chunk = event['chunk']\n",
    "                # La clé 'bytes' contient le texte généré\n",
    "                content = chunk.get('bytes', b'').decode('utf-8')\n",
    "                response_text += content\n",
    "            else:\n",
    "                print(\"Événement non traité :\", event)\n",
    "\n",
    "        return response_text\n",
    "\n",
    "    except Exception as e:\n",
    "        print(\"Erreur lors de l'appel à l'agent :\", e)\n",
    "        return None"
   ]
  },
  {
   "cell_type": "code",
   "execution_count": 190,
   "metadata": {},
   "outputs": [
    {
     "name": "stdout",
     "output_type": "stream",
     "text": [
      "Réponse de l'agent : \n",
      "\n",
      "Voici un résumé des principales informations sur l'entreprise AAPL (Apple Inc.) :\n",
      "\n",
      "- Apple est une entreprise américaine spécialisée dans la conception, la fabrication et la commercialisation de smartphones, d'ordinateurs personnels, de tablettes, de produits connectés et d'accessoires. Ses principaux produits sont l'iPhone, le Mac, l'iPad et les produits Apple Watch, AirPods et HomePod.\n",
      "\n",
      "- L'entreprise opère également dans les services, avec des offres comme Apple Arcade, Apple Fitness+, Apple Music, Apple News+, Apple TV+, Apple Card et Apple Pay.\n",
      "\n",
      "- Apple a son siège social à Cupertino, en Californie, et emploie environ 150 000 personnes à temps plein dans le monde.\n",
      "\n",
      "- Les principaux indicateurs clés de performance d'Apple sont :\n",
      "  - Dividende : 0,45%\n",
      "  - Ratio de distribution : 16,12%\n",
      "  - Bêta : 1,239\n",
      "  - Ratio cours/bénéfice (P/E) : 36,6 (historique) et 26,7 (prévisionnel)\n",
      "  - Volume moyen des transactions : 63 519 990\n",
      "\n",
      "\n",
      "\n"
     ]
    }
   ],
   "source": [
    "# Exemple d'appel avec un *prompt* utilisateur\n",
    "user_prompt = \"Peux-tu me donner des informations sur l'entreprise AAPL?\"\n",
    "response = call_agent_with_prompt(user_prompt)\n",
    "print(\"Réponse de l'agent :\", response)\n"
   ]
  },
  {
   "cell_type": "code",
   "execution_count": null,
   "metadata": {},
   "outputs": [],
   "source": []
  }
 ],
 "metadata": {
  "kernelspec": {
   "display_name": ".venv",
   "language": "python",
   "name": "python3"
  },
  "language_info": {
   "codemirror_mode": {
    "name": "ipython",
    "version": 3
   },
   "file_extension": ".py",
   "mimetype": "text/x-python",
   "name": "python",
   "nbconvert_exporter": "python",
   "pygments_lexer": "ipython3",
   "version": "3.11.3"
  }
 },
 "nbformat": 4,
 "nbformat_minor": 2
}
