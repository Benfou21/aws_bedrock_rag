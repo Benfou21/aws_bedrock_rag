{
 "cells": [
  {
   "cell_type": "code",
   "execution_count": 1,
   "metadata": {},
   "outputs": [],
   "source": [
    "import logging\n",
    "import boto3\n",
    "from botocore.exceptions import ClientError\n",
    "import json\n",
    "import os\n",
    "from dotenv import load_dotenv"
   ]
  },
  {
   "cell_type": "code",
   "execution_count": 2,
   "metadata": {},
   "outputs": [
    {
     "data": {
      "text/plain": [
       "True"
      ]
     },
     "execution_count": 2,
     "metadata": {},
     "output_type": "execute_result"
    }
   ],
   "source": [
    "load_dotenv()"
   ]
  },
  {
   "cell_type": "markdown",
   "metadata": {},
   "source": [
    "## Sentiment Analysis"
   ]
  },
  {
   "cell_type": "code",
   "execution_count": 3,
   "metadata": {},
   "outputs": [],
   "source": [
    "access_key = os.getenv(\"AWS_ACCESS_KEY_ID\")\n",
    "secret_key = os.getenv(\"AWS_SECRET_ACCESS_KEY\")\n",
    "session_token = os.getenv(\"AWS_SESSION_KEY\")\n",
    "region_name = os.getenv(\"AWS_DEFAULT_REGION\")\n"
   ]
  },
  {
   "cell_type": "code",
   "execution_count": 4,
   "metadata": {},
   "outputs": [],
   "source": [
    "\n",
    "bedrock_client = boto3.client('bedrock-runtime', region_name=region_name,\n",
    "    aws_access_key_id=access_key,\n",
    "    aws_secret_access_key=secret_key,\n",
    "    aws_session_token=session_token  )\n"
   ]
  },
  {
   "cell_type": "code",
   "execution_count": 5,
   "metadata": {},
   "outputs": [],
   "source": [
    "# Fonction pour l'analyse de sentiment en utilisant l'API Messages de Claude 3\n",
    "def analyze_sentiment(text):\n",
    "    try:\n",
    "        # Préparation de la requête pour l'API Messages\n",
    "        response = bedrock_client.invoke_model(\n",
    "            modelId=\"anthropic.claude-3-sonnet-20240229-v1:0\",\n",
    "            contentType=\"application/json\",\n",
    "            accept=\"application/json\",\n",
    "            body=json.dumps({\n",
    "                \"anthropic_version\": \"bedrock-2023-05-31\",\n",
    "                \"max_tokens\": 50,\n",
    "                \"temperature\": 0.5,\n",
    "                \"messages\": [\n",
    "                    {\"role\": \"user\", \"content\": f\"Analyse le sentiment de ce texte : \\\"{text}\\\"\"}\n",
    "                ]\n",
    "            })\n",
    "        )\n",
    "\n",
    "        # Affichage de la réponse brute pour diagnostic\n",
    "        response_body = json.loads(response['body'].read().decode('utf-8'))\n",
    "        \n",
    "        # Vérification de la structure de la réponse et extraction du texte\n",
    "        content = response_body.get(\"content\")\n",
    "        if isinstance(content, list):\n",
    "            sentiment_analysis = \" \".join([part[\"text\"] for part in content if \"text\" in part])\n",
    "        else:\n",
    "            sentiment_analysis = content  # Directement utiliser le contenu si c'est une chaîne\n",
    "        \n",
    "        return sentiment_analysis or \"Pas de résultat détecté\"\n",
    "    except Exception as e:\n",
    "        print(\"Erreur :\", e)\n",
    "        return None"
   ]
  },
  {
   "cell_type": "code",
   "execution_count": 6,
   "metadata": {},
   "outputs": [],
   "source": [
    "# # Exemple d'utilisation\n",
    "# text_to_analyze = \"J'aime pas le fromage.\"\n",
    "# result = analyze_sentiment(text_to_analyze)\n",
    "# print(\"Analyse de sentiment :\", result)"
   ]
  },
  {
   "cell_type": "markdown",
   "metadata": {},
   "source": [
    "## RAG Agent"
   ]
  },
  {
   "cell_type": "code",
   "execution_count": 7,
   "metadata": {},
   "outputs": [],
   "source": [
    "agent_id = os.getenv(\"AGENT_ID\")\n",
    "agent_alias = os.getenv(\"AGENT_ALIAS\")"
   ]
  },
  {
   "cell_type": "code",
   "execution_count": 8,
   "metadata": {},
   "outputs": [],
   "source": [
    "\n",
    "runtime_client=boto3.client(\n",
    "    service_name=\"bedrock-agent-runtime\",\n",
    "    region_name=region_name,\n",
    "    aws_access_key_id=access_key,\n",
    "    aws_secret_access_key=secret_key,\n",
    "    aws_session_token=session_token  # Facultatif\n",
    "),\n"
   ]
  },
  {
   "cell_type": "code",
   "execution_count": 9,
   "metadata": {},
   "outputs": [
    {
     "data": {
      "text/plain": [
       "<botocore.client.AgentsforBedrockRuntime at 0x1eba979fb50>"
      ]
     },
     "execution_count": 9,
     "metadata": {},
     "output_type": "execute_result"
    }
   ],
   "source": [
    "runtime_client[0]"
   ]
  },
  {
   "cell_type": "code",
   "execution_count": 10,
   "metadata": {},
   "outputs": [],
   "source": [
    "import uuid\n",
    "session_id = str(uuid.uuid4())\n",
    "\n",
    "# Function to call the agent with a user prompt\n",
    "def call_agent_with_prompt(user_prompt,agent_alias):\n",
    "    try:\n",
    "        # Invoke the agent without invalid parameters\n",
    "        response = runtime_client[0].invoke_agent(\n",
    "            agentId=agent_id,\n",
    "            agentAliasId=agent_alias,  # Include this if you have an agent alias\n",
    "            sessionId=session_id,\n",
    "            inputText=user_prompt,\n",
    "            #enableTrace=True\n",
    "        )\n",
    "        event_stream = response.get('completion')\n",
    "        response_text = ''\n",
    "\n",
    "        # Parcourir l'EventStream pour obtenir la réponse\n",
    "        for event in event_stream:\n",
    "            # Chaque événement est un dictionnaire contenant les données de l'événement\n",
    "            # Pour la génération de texte, les données sont sous la clé 'chunk'\n",
    "            if 'chunk' in event:\n",
    "                chunk = event['chunk']\n",
    "                # La clé 'bytes' contient le texte généré\n",
    "                content = chunk.get('bytes', b'').decode('utf-8')\n",
    "                response_text += content\n",
    "            else:\n",
    "                print(\"Événement non traité :\", event)\n",
    "\n",
    "        return response_text\n",
    "\n",
    "    except Exception as e:\n",
    "        print(\"Erreur lors de l'appel à l'agent :\", e)\n",
    "        return None"
   ]
  },
  {
   "cell_type": "code",
   "execution_count": 11,
   "metadata": {},
   "outputs": [],
   "source": [
    "# # Exemple d'appel avec un *prompt* utilisateur\n",
    "# user_prompt = \"Peux tu analyser une analyse fondamentale de Accenture ?\"\n",
    "# response = call_agent_with_prompt(user_prompt,agent_alias)\n",
    "# print(\"Réponse de l'agent :\", response)\n"
   ]
  },
  {
   "cell_type": "markdown",
   "metadata": {},
   "source": [
    "## Agent + macro + sentiment"
   ]
  },
  {
   "cell_type": "code",
   "execution_count": 12,
   "metadata": {},
   "outputs": [],
   "source": [
    "import yfinance as yf\n",
    "import pandas as pd"
   ]
  },
  {
   "cell_type": "code",
   "execution_count": 13,
   "metadata": {},
   "outputs": [],
   "source": [
    "ticker = yf.Ticker(\"AAPL\")"
   ]
  },
  {
   "cell_type": "markdown",
   "metadata": {},
   "source": [
    "Sentiment"
   ]
  },
  {
   "cell_type": "code",
   "execution_count": 14,
   "metadata": {},
   "outputs": [],
   "source": [
    "import requests\n",
    "from bs4 import BeautifulSoup\n",
    "import json\n",
    "\n",
    "# Fonction pour extraire le texte principal de l'article\n",
    "def extract_article_text(url):\n",
    "    response = requests.get(url)\n",
    "    soup = BeautifulSoup(response.content, 'html.parser')\n",
    "    \n",
    "    # Extraction des paragraphes de l'article\n",
    "    paragraphs = soup.find_all('p')\n",
    "    article_text = ' '.join([para.get_text() for para in paragraphs])\n",
    "    return article_text"
   ]
  },
  {
   "cell_type": "code",
   "execution_count": 15,
   "metadata": {},
   "outputs": [],
   "source": [
    "\n",
    "def analyze_subject_sentiment(text):\n",
    "    try:\n",
    "        response = bedrock_client.invoke_model(\n",
    "            modelId=\"anthropic.claude-3-sonnet-20240229-v1:0\",\n",
    "            contentType=\"application/json\",\n",
    "            accept=\"application/json\",\n",
    "            body=json.dumps({\n",
    "                \"anthropic_version\": \"bedrock-2023-05-31\",\n",
    "                \"max_tokens\": 100,\n",
    "                \"temperature\": 0.5,\n",
    "                \"messages\": [\n",
    "                    {\"role\": \"user\", \"content\": f\"Donne uniquement sujet principal de cet article ainsi que le sentiment du text associé sans explicatioN: \\\"{text}\\\"\"}\n",
    "                ]\n",
    "            })\n",
    "        )\n",
    "        \n",
    "        response_body = json.loads(response['body'].read().decode('utf-8'))\n",
    "        content = response_body.get(\"content\")\n",
    "        \n",
    "        subject_analysis = content[0][\"text\"] if content else \"Pas de sujet détecté\"\n",
    "        return subject_analysis\n",
    "    \n",
    "    except Exception as e:\n",
    "        print(\"Erreur d'analyse du sujet :\", e)\n",
    "        return None\n",
    "\n"
   ]
  },
  {
   "cell_type": "code",
   "execution_count": 16,
   "metadata": {},
   "outputs": [],
   "source": [
    "\n",
    "# Fonction principale pour obtenir les informations d'actualité avec sujet et sentiment\n",
    "def get_news_with_sentiment(ticker):\n",
    "    \n",
    "\n",
    "    news = ticker.news\n",
    "    sentiment_output = ''\n",
    "    \n",
    "    for item in news:\n",
    "        title = item.get('title')\n",
    "        link = item.get('link')\n",
    "        source = item.get('publisher')\n",
    "        \n",
    "        # Extraire le texte de l'article\n",
    "        article_text = extract_article_text(link)\n",
    "        \n",
    "        # Analyser le sujet et le sentiment\n",
    "        subject_sentiment = analyze_subject_sentiment(article_text)\n",
    "        \n",
    "        sentiment_output += title + subject_sentiment\n",
    "        \n",
    "\n",
    "    return sentiment_output"
   ]
  },
  {
   "cell_type": "code",
   "execution_count": 17,
   "metadata": {},
   "outputs": [],
   "source": [
    "sentiment_output = get_news_with_sentiment(ticker)"
   ]
  },
  {
   "cell_type": "code",
   "execution_count": 18,
   "metadata": {},
   "outputs": [
    {
     "data": {
      "text/plain": [
       "\"iPhone 16’s Impact on Apple (AAPL)’s Market Share: A Mixed BagSujet principal: Retard des données boursières et tendances des actions d'IA à surveiller en novembre, notamment Apple Inc. (AAPL).\\n\\nSentiment: Neutre/InformatifBuffett Keeps Cutting Apple Stake, With Value Down 60% This YearSujet principal : Berkshire Hathaway a considérablement réduit sa participation dans Apple au troisième trimestre 2023.\\n\\nSentiment du texte : Neutre, le texte relate de manière factuelle les ventes d'actions Apple par Berkshire Hathaway et fournit des détails sur les résultats financiers du troisième trimestre.3 Things Apple Doesn't Want to Talk AboutSujet principal: Problème technique en cours de résolution\\n\\nSentiment: Rassurant, positifBig Pension Sold Palantir, Apple, and Nvidia Stock. It Bought AMD.Sujet principal: Mise à jour sur un problème technique en cours\\n\\nSentiment du texte: RassurantApple Intelligence Products Could Make Up For Apple’s (AAPL) iPhone WeaknessSujet principal : Les difficultés actuelles d'Apple avec les ventes d'iPhone et son retard dans la course à l'IA, mais les attentes sont grandes pour son prochain appareil Apple Intelligence.\\n\\nSentiment du texte : Neutre à légèrement positif, avec des attentes prudentes mais optimistes pour les futurs produits IA d'Apple malgré les défis actuels.Pixelmator announces agreement to be acquired by AppleSujet principal: Acquisition de Pixelmator par Apple.\\n\\nSentiment: Positif/Enthousiaste.Berkshire Hathaway’s Cash Pile Reaches Record $325.2 BillionLe sujet principal de cet article est la situation financière du conglomérat Berkshire Hathaway, en particulier sa réserve record de trésorerie de 325,2 milliards de dollars au troisième trimestre 2022.\\n\\nLe sentiment général du texte est neutre, rapportant de manière factuelle les chiffres et les détails financiers de Berkshire Hathaway.Warren Buffett's Berkshire Hathaway Sells Apple Stock, Boosts Cash Pile to RecordSujet principal: Problème technique en cours de résolution\\n\\nSentiment: Rassurant\""
      ]
     },
     "execution_count": 18,
     "metadata": {},
     "output_type": "execute_result"
    }
   ],
   "source": [
    "sentiment_output"
   ]
  },
  {
   "cell_type": "markdown",
   "metadata": {},
   "source": [
    "Macro"
   ]
  },
  {
   "cell_type": "code",
   "execution_count": 19,
   "metadata": {},
   "outputs": [],
   "source": [
    "def caption_summary(text,max_token):\n",
    "    try:\n",
    "        response = bedrock_client.invoke_model(\n",
    "            modelId=\"anthropic.claude-3-sonnet-20240229-v1:0\",\n",
    "            contentType=\"application/json\",\n",
    "            accept=\"application/json\",\n",
    "            body=json.dumps({\n",
    "                \"anthropic_version\": \"bedrock-2023-05-31\",\n",
    "                \"max_tokens\": max_token,\n",
    "                \"temperature\": 0.5,\n",
    "                \"messages\": [\n",
    "                    {\"role\": \"user\", \"content\": f\"Tu es un macro économiste, rédige un résumé des points clés  macro économique des différents sujets, avec détails (ex chiffres) : \\\"{text}\\\"\"}\n",
    "                ]\n",
    "            })\n",
    "        )\n",
    "\n",
    "        response_body = json.loads(response['body'].read().decode('utf-8'))\n",
    "        content = response_body.get(\"content\")\n",
    "        \n",
    "        sentiment_analysis = content[0][\"text\"] if content else \"Pas de sentiment détecté\"\n",
    "        return sentiment_analysis\n",
    "    \n",
    "    except Exception as e:\n",
    "        print(\"Erreur d'analyse de sentiment :\", e)"
   ]
  },
  {
   "cell_type": "code",
   "execution_count": 20,
   "metadata": {},
   "outputs": [],
   "source": [
    "\n",
    "def get_macro_news() :\n",
    "    tickers = {\n",
    "        \"^GSPC\": \"S&P 500 - Indice Boursier\",\n",
    "        \"DX-Y.NYB\": \"Indice du Dollar Américain\",\n",
    "        \"^TNX\": \"Taux des Obligations à 10 ans\",\n",
    "        \"GC=F\": \"Prix de l'Or\",\n",
    "        \"CL=F\": \"Prix du Pétrole (WTI)\",\n",
    "        \"^VIX\": \"VIX - Volatilité des Marchés\"\n",
    "    }\n",
    "    \n",
    "    output_text = \"\"\n",
    "    for ticker_symbol, description in tickers.items():\n",
    "        ticker = yf.Ticker(ticker_symbol)\n",
    "        news_items = ticker.news\n",
    "        \n",
    "        for item in news_items[:2]:\n",
    "            \n",
    "            text_article = extract_article_text(item[\"link\"])\n",
    "            if text_article != \"Thank you for your patience. Our engineers are working quickly to resolve the issue.\" :\n",
    "                \n",
    "                text = caption_summary(text_article,150)\n",
    "                \n",
    "                output_text += text\n",
    "    caption_macro = caption_summary(output_text,max_token=300)\n",
    "    return caption_macro"
   ]
  },
  {
   "cell_type": "code",
   "execution_count": 21,
   "metadata": {},
   "outputs": [],
   "source": [
    "output_macro = get_macro_news()"
   ]
  },
  {
   "cell_type": "code",
   "execution_count": 22,
   "metadata": {},
   "outputs": [
    {
     "data": {
      "text/plain": [
       "\"Voici un résumé des principaux points macroéconomiques avec des détails chiffrés:\\n\\nCroissance économique:\\n- Le PIB des États-Unis a augmenté de 2,8% au troisième trimestre 2024, légèrement en-dessous des prévisions de 3,1%. \\n- La consommation des ménages, moteur de l'économie américaine, a progressé de 3,7%, son rythme le plus élevé depuis début 2023, contribuant fortement à la croissance du PIB.\\n\\nMarché du travail:\\n- Le secteur privé américain a créé 230 000 nouveaux emplois en octobre 2024, dépassant les attentes des analystes qui tablaient sur 200 000 créations d'emplois.\\n- Le taux de chômage est resté stable à 3,7%, proche du plein emploi.\\n\\nInflation: \\n- L'indice des prix à la consommation (IPC) a augmenté de 0,3% en octobre sur un mois et de 2,5% sur un an.\\n- L'inflation sous-jacente, excluant les composantes volatiles alimentaires et énergétiques, s'est\""
      ]
     },
     "execution_count": 22,
     "metadata": {},
     "output_type": "execute_result"
    }
   ],
   "source": [
    "output_macro"
   ]
  },
  {
   "cell_type": "code",
   "execution_count": null,
   "metadata": {},
   "outputs": [
    {
     "name": "stdout",
     "output_type": "stream",
     "text": [
      "Réponse de l'agent : Voici le rapport détaillé en 5 parties sur l'entreprise AAPL :\n",
      "\n",
      "1. Présentation générale de l'entreprise :\n",
      "- AAPL est une entreprise américaine spécialisée dans les produits électroniques grand public, notamment les smartphones, ordinateurs, tablettes et accessoires.\n",
      "- Elle opère dans le secteur technologique et fait partie de l'industrie des biens de consommation électroniques.\n",
      "- AAPL emploie environ 150 000 personnes à temps plein dans le monde.\n",
      "\n",
      "2. Indicateurs financiers clés :\n",
      "- AAPL a généré un chiffre d'affaires de 391,04 milliards de dollars en 2022, avec une marge opérationnelle de 31,17%.\n",
      "- Son bénéfice avant intérêts, impôts, dotations et amortissements (EBITDA) s'élève à 134,66 milliards de dollars.\n",
      "- La société dispose d'une trésorerie nette de 65,17 milliards de dollars et d'un endettement total de 106,63 milliards de dollars.\n",
      "- Le ratio cours/valeur comptable est de 59,17 et le ratio de distribution des dividendes est de 16,12%.\n",
      "\n",
      "3. Analyse de la performance opérationnelle :\n",
      "- Le flux de trésorerie d'exploitation s'élève à 118,25 milliards de dollars et le flux de trésorerie libre à 112,48 milliards de dollars.\n",
      "- Le rendement des actifs est de 21,46% et le rendement des capitaux propres de 157,41%.\n",
      "- La croissance du chiffre d'affaires est de 6,1% et la croissance du bénéfice est négative à -33,5%.\n",
      "- La marge brute est de 46,26% et la marge opérationnelle n'est pas disponible.\n",
      "\n",
      "4. Analyse de la valorisation boursière :\n",
      "- Le ratio cours/bénéfice historique est de 36,60 et le ratio cours/bénéfice prévisionnel est de 26,73.\n",
      "- Le bêta de l'action est de 1,239, indiquant une volatilité supérieure à la moyenne du marché.\n",
      "- Le rendement du dividende est de 0,45%.\n",
      "\n",
      "5. Contexte macroéconomique et perspectives :\n",
      "- Le marché américain des actions connaît une forte volatilité en raison de l'élection présidentielle de 2024, avec une probabilité de 59,5% pour une victoire de Donald Trump.\n",
      "- L'inflation élevée aux États-Unis et la hausse des taux directeurs de la Fed constituent des défis macroéconomiques pour AAPL.\n",
      "- Cependant, les perspectives d'AAPL dans l'intelligence artificielle avec le lancement prochain de son premier appareil \"Apple Intelligence\" semblent prometteuses.\n",
      "\n",
      "\n"
     ]
    }
   ],
   "source": [
    "# Exemple d'appel avec un *prompt* utilisateur\n",
    "user_prompt = \"Réalise le rapport sur AAPL en détaillant les 5 parties ?\"\n",
    "promt = user_prompt + \"Context macro suppélementaire :\" + output_macro + \"Sujets et sentiments actuelles autour de l'entreprise :\" + sentiment_output\n",
    "response = call_agent_with_prompt(promt,agent_alias)\n",
    "print(\"Réponse de l'agent :\", response)"
   ]
  },
  {
   "cell_type": "markdown",
   "metadata": {},
   "source": [
    "## Agent-macro"
   ]
  },
  {
   "cell_type": "code",
   "execution_count": 23,
   "metadata": {},
   "outputs": [],
   "source": [
    "agent_alias = os.getenv(\"AGENT_MACRO_ALIAS\")\n",
    "\n",
    "runtime_client=boto3.client(\n",
    "    service_name=\"bedrock-agent-runtime\",\n",
    "    region_name=region_name,\n",
    "    aws_access_key_id=access_key,\n",
    "    aws_secret_access_key=secret_key,\n",
    "    aws_session_token=session_token  # Facultatif\n",
    "),"
   ]
  },
  {
   "cell_type": "code",
   "execution_count": 25,
   "metadata": {},
   "outputs": [
    {
     "name": "stdout",
     "output_type": "stream",
     "text": [
      "Réponse de l'agent : Dans l'ensemble, le contexte macroéconomique aux États-Unis est plutôt favorable, avec une croissance économique modérée, un marché du travail dynamique et une inflation maîtrisée. Cependant, le léger ralentissement de la croissance du PIB et la concurrence sur un marché du travail tendu pourraient représenter des défis pour l'entreprise. Elle devra donc rester vigilante et s'adapter pour tirer parti des opportunités et limiter les risques.\n"
     ]
    }
   ],
   "source": [
    "# Exemple d'appel avec un *prompt* utilisateur\n",
    "user_prompt = \"Réalise l'analyse macroéconimque en détail ?\"\n",
    "promt = user_prompt + \"Context macro suppélementaire :\" + output_macro \n",
    "response_macro = call_agent_with_prompt(promt,agent_alias)\n",
    "print(\"Réponse de l'agent :\", response_macro)"
   ]
  },
  {
   "cell_type": "markdown",
   "metadata": {},
   "source": [
    "## Agent profil"
   ]
  },
  {
   "cell_type": "code",
   "execution_count": 26,
   "metadata": {},
   "outputs": [],
   "source": [
    "agent_alias = os.getenv(\"AGENT_PROFIL_ALIAS\")"
   ]
  },
  {
   "cell_type": "code",
   "execution_count": 27,
   "metadata": {},
   "outputs": [
    {
     "name": "stdout",
     "output_type": "stream",
     "text": [
      "Réponse de l'agent : \n",
      "\n",
      "Voici une analyse financière et sectorielle de l'entreprise Apple Inc. (AAPL) :\n",
      "\n",
      "Apple Inc. est une entreprise américaine du secteur technologique, plus précisément de l'industrie des produits électroniques grand public. Ses principaux produits sont les smartphones iPhone, les ordinateurs personnels Mac, les tablettes iPad, ainsi que divers accessoires et services tels qu'AppleCare, Apple Music, Apple TV+, Apple Pay, etc.\n",
      "\n",
      "Principaux indicateurs financiers clés :\n",
      "- Chiffre d'affaires : 30,7 milliards de dollars en 2024 (prévision), en hausse de 0,8% par rapport à 2023\n",
      "- Bénéfice net : 712,3 millions de dollars en 2024 (prévision), en hausse de 16,8% par rapport à 2023\n",
      "- Marge bénéficiaire nette : 2,3% en 2024 (prévision)\n",
      "- Rendement du dividende : 0,45%\n",
      "- Ratio de distribution : 16,12%\n",
      "- Ratio cours/bénéfice (P/E) historique : 36,60\n",
      "- Ratio cours/bénéfice (P/E) prospectif : 26,73\n",
      "\n",
      "Au niveau sectoriel, Apple évolue dans un marché très concurrentiel des produits électroniques grand public, dominé par quelques grands acteurs mondiaux tels que Samsung, Google, Microsoft, etc. La capacité d'innovation, la qualité des produits et services, ainsi que la fidélité de la clientèle sont des facteurs clés de succès dans ce secteur.\n",
      "\n",
      "\n",
      "\n"
     ]
    }
   ],
   "source": [
    "ticker_name = \"AAPL\" # mettre la variable choisi dans la liste\n",
    "user_prompt = f\"Présente l'entreprise {ticker_name} ?\"\n",
    "promt = user_prompt \n",
    "response_profil = call_agent_with_prompt(promt,agent_alias)\n",
    "print(\"Réponse de l'agent :\", response_profil)"
   ]
  },
  {
   "cell_type": "markdown",
   "metadata": {},
   "source": [
    "## Agent Financial\n"
   ]
  },
  {
   "cell_type": "code",
   "execution_count": 28,
   "metadata": {},
   "outputs": [
    {
     "name": "stdout",
     "output_type": "stream",
     "text": [
      "Réponse de l'agent : Voici une analyse financière détaillée de l'entreprise AAPL :\n",
      "\n",
      "Secteur et activité :\n",
      "AAPL est une entreprise américaine du secteur technologique, spécialisée dans la conception, la fabrication et la commercialisation de smartphones, d'ordinateurs personnels, de tablettes, de produits connectés et d'accessoires. Elle opère également dans les services numériques et de paiement.\n",
      "\n",
      "Situation financière :\n",
      "- AAPL a une forte position de trésorerie avec 65,17 milliards de dollars de trésorerie totale et 4,31 dollars de trésorerie par action.\n",
      "- Son EBITDA s'élève à 134,66 milliards de dollars, témoignant d'une bonne rentabilité opérationnelle.\n",
      "- Cependant, l'entreprise a un niveau d'endettement élevé avec 106,63 milliards de dollars de dette totale et un ratio dette/capitaux propres de 187%.\n",
      "- Les ratios de liquidité sont corrects avec un ratio courant de 0,87 et un ratio rapide de 0,75.\n",
      "- La rentabilité est satisfaisante avec un rendement des actifs de 21,5% et un rendement des capitaux propres de 157,4%.\n",
      "\n",
      "Performances :\n",
      "- Le chiffre d'affaires s'élève à 391,04 milliards de dollars, en croissance de 6,1% sur un an.\n",
      "- Cependant, les bénéfices ont baissé de 33,5% sur la même période.\n",
      "- Les marges brutes sont élevées à 46,2% mais les marges opérationnelles sont plus modestes à 31,2%.\n",
      "- Le flux de trésorerie disponible est solide à 112,48 milliards de dollars.\n",
      "\n",
      "Valorisation :\n",
      "- Le ratio cours/valeur comptable est élevé à 59,17, indiquant une valorisation boursière importante.\n",
      "- Le ratio de valorisation (PE) est également élevé à 36,6 en données historiques et 26,7 en données prospectives.\n",
      "\n",
      "\n",
      "\n",
      "En résumé, AAPL est une entreprise technologique leader avec une forte position de marché et de trésorerie, mais qui fait face à une baisse de ses bénéfices malgré une croissance de ses revenus. Sa situation financière est saine mais son niveau d'endettement est élevé. Sa valorisation boursière semble importante au regard de ses performances financières.\n",
      "\n",
      "\n",
      "\n"
     ]
    }
   ],
   "source": [
    "agent_alias = os.getenv(\"AGENT_FINANCE_ALIAS\")\n",
    "\n",
    "ticker_name = \"AAPL\" # mettre la variable choisi dans la liste\n",
    "user_prompt = f\"Réalise l'analyse de l'état financère de l'entreprise {ticker_name} ?\"\n",
    "promt = user_prompt \n",
    "response_fin = call_agent_with_prompt(promt,agent_alias)\n",
    "print(\"Réponse de l'agent :\", response_fin)"
   ]
  },
  {
   "cell_type": "markdown",
   "metadata": {},
   "source": [
    "## Agent sentiment"
   ]
  },
  {
   "cell_type": "code",
   "execution_count": 29,
   "metadata": {},
   "outputs": [
    {
     "name": "stdout",
     "output_type": "stream",
     "text": [
      "Réponse de l'agent : \n",
      "\n",
      "Après avoir analysé les dernières actualités et les indicateurs clés de performance d'Apple (AAPL), voici mon évaluation du sentiment du marché concernant cette entreprise :\n",
      "\n",
      "Dans l'ensemble, le sentiment du marché semble être plutôt neutre à légèrement positif concernant Apple. Bien qu'il y ait eu quelques défis, comme la baisse des ventes d'iPhone et la réduction de la participation de Berkshire Hathaway, les articles montrent également des aspects positifs, comme les attentes pour les futurs produits d'intelligence artificielle d'Apple et l'acquisition de Pixelmator.\n",
      "\n",
      "D'un point de vue financier, Apple reste une entreprise très performante, avec une forte rentabilité, une trésorerie importante et une position de leader dans son secteur. Ses indicateurs clés de performance, comme le chiffre d'affaires, la marge opérationnelle et le free cash flow, sont solides. Cependant, ses perspectives de croissance des bénéfices sont négatives à court terme.\n",
      "\n",
      "Malgré ces défis, le marché semble garder une vision globalement positive d'Apple, en raison de son leadership technologique, de son portefeuille diversifié de produits et services, et de sa capacité à innover et à se réinventer. Les investisseurs restent donc prudents mais optimistes quant à l'avenir de l'entreprise.\n",
      "\n",
      "\n",
      "\n"
     ]
    }
   ],
   "source": [
    "agent_alias = os.getenv(\"AGENT_SENTIMENT_ALIAS\")\n",
    "\n",
    "ticker_name = \"AAPL\" # mettre la variable choisi dans la liste\n",
    "user_prompt = f\"Réalise l'analyse du sentiment de marché de l'entreprise {ticker_name} avec comme context les dernières actualité et leurs sentiments?\"\n",
    "promt = user_prompt + \"Context actualité et sentiments : \" + sentiment_output\n",
    "response_sent = call_agent_with_prompt(promt,agent_alias)\n",
    "print(\"Réponse de l'agent :\", response_sent)"
   ]
  },
  {
   "cell_type": "markdown",
   "metadata": {},
   "source": [
    "## Agent Risk"
   ]
  },
  {
   "cell_type": "code",
   "execution_count": 30,
   "metadata": {},
   "outputs": [
    {
     "name": "stdout",
     "output_type": "stream",
     "text": [
      "Réponse de l'agent : \n",
      "\n",
      "En résumé, l'analyse du contexte macroéconomique et de la valeur bêta de l'entreprise AAPL fait ressortir les éléments suivants :\n",
      "\n",
      "Risques :\n",
      "- Volatilité du titre AAPL plus élevée que la moyenne du marché, avec une valeur bêta de 1,239. Cela signifie un risque plus important pour les investisseurs.\n",
      "- Dépendance importante de l'entreprise à la demande des consommateurs, qui peut être volatile.\n",
      "- Forte exposition internationale, rendant AAPL sensible aux fluctuations macroéconomiques.\n",
      "\n",
      "Opportunités :\n",
      "- Contexte macroéconomique globalement favorable aux États-Unis, avec une croissance économique soutenue, un marché du travail dynamique et une inflation modérée.\n",
      "- La consommation des ménages, moteur de l'économie américaine, progresse à un rythme élevé, ce qui devrait bénéficier aux ventes de l'entreprise AAPL.\n",
      "\n",
      "\n",
      "\n"
     ]
    }
   ],
   "source": [
    "agent_alias = os.getenv(\"AGENT_RISK_ALIAS\")\n",
    "\n",
    "ticker_name = \"AAPL\" # mettre la variable choisi dans la liste\n",
    "user_prompt = f\"Réalise l'analyse des risques et opportunité de l'entreprise {ticker_name} selon le context macroéconomic et la valeur beta kpi\"\n",
    "promt = user_prompt + \"Context macroeconomic : \" + output_macro\n",
    "response_risk = call_agent_with_prompt(promt,agent_alias)\n",
    "print(\"Réponse de l'agent :\", response_risk)"
   ]
  },
  {
   "cell_type": "markdown",
   "metadata": {},
   "source": [
    "## Agent résumé"
   ]
  },
  {
   "cell_type": "code",
   "execution_count": 31,
   "metadata": {},
   "outputs": [],
   "source": [
    "tot_reponse = response_risk + response_profil + response_macro + response_fin + response_sent"
   ]
  },
  {
   "cell_type": "code",
   "execution_count": 32,
   "metadata": {},
   "outputs": [
    {
     "name": "stdout",
     "output_type": "stream",
     "text": [
      "Réponse de l'agent : Voici une analyse financière et sectorielle détaillée d'Apple Inc. (AAPL) :\n",
      "\n",
      "Situation financière :\n",
      "- Apple dispose d'une très solide position de trésorerie avec 65,17 milliards de dollars de trésorerie totale et 4,31 dollars de trésorerie par action.\n",
      "- Son EBITDA s'élève à 134,66 milliards de dollars, témoignant d'une bonne rentabilité opérationnelle.\n",
      "- Cependant, l'entreprise a un niveau d'endettement élevé avec 106,63 milliards de dollars de dette totale et un ratio dette/capitaux propres de 187%.\n",
      "- Les ratios de liquidité sont corrects avec un ratio courant de 0,87 et un ratio rapide de 0,75.\n",
      "- La rentabilité est satisfaisante avec un rendement des actifs de 21,5% et un rendement des capitaux propres de 157,4%.\n",
      "\n",
      "Performances :\n",
      "- Le chiffre d'affaires s'élève à 391,04 milliards de dollars, en croissance de 6,1% sur un an.\n",
      "- Cependant, les bénéfices ont baissé de 33,5% sur la même période.\n",
      "- Les marges brutes sont élevées à 46,2% mais les marges opérationnelles sont plus modestes à 31,2%.\n",
      "- Le flux de trésorerie disponible est solide à 112,48 milliards de dollars.\n",
      "\n",
      "Valorisation :\n",
      "- Le ratio cours/valeur comptable est élevé à 59,17, indiquant une valorisation boursière importante.\n",
      "- Le ratio de valorisation (PE) est également élevé à 36,6 en données historiques et 26,7 en données prospectives.\n",
      "\n",
      "Secteur et positionnement :\n",
      "Apple évolue dans un secteur très concurrentiel des produits électroniques grand public, dominé par quelques grands acteurs mondiaux. Sa capacité d'innovation, la qualité de ses produits et services, ainsi que la fidélité de sa clientèle sont des facteurs clés de succès dans ce secteur.\n",
      "\n",
      "Recommandations stratégiques :\n",
      "Malgré un contexte macroéconomique globalement favorable aux États-Unis, Apple devra rester vigilante et s'adapter pour tirer parti des opportunités et limiter les risques liés à sa forte volatilité, sa dépendance à la demande des consommateurs et son exposition internationale. L'entreprise devra notamment continuer à innover et diversifier son offre pour maintenir sa position de leader sur le marché.\n"
     ]
    }
   ],
   "source": [
    "agent_alias = os.getenv(\"AGENT_RESUME_ALIAS\")\n",
    "\n",
    "ticker_name = \"AAPL\" # mettre la variable choisi dans la liste\n",
    "user_prompt = f\"Réalise un récapitulatif et un conseil de stratégie vis à vis de l'entreprise {ticker_name} \"\n",
    "promt = user_prompt + \"Context :\" + tot_reponse\n",
    "response = call_agent_with_prompt(promt,agent_alias)\n",
    "print(\"Réponse de l'agent :\", response)"
   ]
  },
  {
   "cell_type": "markdown",
   "metadata": {},
   "source": [
    "## AGENT Chat"
   ]
  },
  {
   "cell_type": "code",
   "execution_count": null,
   "metadata": {},
   "outputs": [],
   "source": [
    "agent_alias = os.getenv(\"AGENT_CHAT_ALIAS\")\n",
    "user_prompt = \"\" #From chat\n",
    "promt = user_prompt + \"Context macro  :\" + output_macro + \"Sujets et sentiments actuelles autour de l'entreprise :\" + sentiment_output\n",
    "response = call_agent_with_prompt(promt,agent_alias)\n",
    "print(\"Réponse de l'agent :\", response)"
   ]
  }
 ],
 "metadata": {
  "kernelspec": {
   "display_name": ".venv",
   "language": "python",
   "name": "python3"
  },
  "language_info": {
   "codemirror_mode": {
    "name": "ipython",
    "version": 3
   },
   "file_extension": ".py",
   "mimetype": "text/x-python",
   "name": "python",
   "nbconvert_exporter": "python",
   "pygments_lexer": "ipython3",
   "version": "3.11.3"
  }
 },
 "nbformat": 4,
 "nbformat_minor": 2
}
