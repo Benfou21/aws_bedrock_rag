{
 "cells": [
  {
   "cell_type": "code",
   "execution_count": 20,
   "metadata": {},
   "outputs": [],
   "source": [
    "import yfinance as yf\n",
    "import pandas as pd\n",
    "from datetime import datetime\n",
    "\n",
    "ticker = yf.Ticker(\"AAPL\")\n"
   ]
  },
  {
   "cell_type": "code",
   "execution_count": 21,
   "metadata": {},
   "outputs": [],
   "source": [
    "def get_major_news(ticker):\n",
    "    news = ticker.news\n",
    "    data = []\n",
    "    for item in news:\n",
    "        title = item.get('title')\n",
    "        link = item.get('link')\n",
    "        source = item.get('publisher')\n",
    "        # Convertir le timestamp Unix en format lisible\n",
    "        publish_time = datetime.fromtimestamp(item.get('providerPublishTime')).strftime('%Y-%m-%d %H:%M:%S')\n",
    "        \n",
    "        # Ajouter les informations dans un dictionnaire\n",
    "        data.append({\n",
    "            'Title': title,\n",
    "            'Link': link,\n",
    "            'Source': source,\n",
    "            'Publish Time': publish_time\n",
    "        })\n",
    "    \n",
    "    # Convertir la liste en DataFrame\n",
    "    df = pd.DataFrame(data)\n",
    "    return df\n"
   ]
  },
  {
   "cell_type": "code",
   "execution_count": 29,
   "metadata": {},
   "outputs": [
    {
     "name": "stdout",
     "output_type": "stream",
     "text": [
      "https://finance.yahoo.com/news/apple-intelligence-products-could-apple-161448615.html\n"
     ]
    }
   ],
   "source": [
    "print(get_major_news(ticker)[\"Link\"][0])"
   ]
  },
  {
   "cell_type": "code",
   "execution_count": 30,
   "metadata": {},
   "outputs": [],
   "source": [
    "import requests\n",
    "from bs4 import BeautifulSoup\n",
    "import json\n",
    "\n",
    "# Fonction pour extraire le texte principal de l'article\n",
    "def extract_article_text(url):\n",
    "    response = requests.get(url)\n",
    "    soup = BeautifulSoup(response.content, 'html.parser')\n",
    "    \n",
    "    # Extraction des paragraphes de l'article\n",
    "    paragraphs = soup.find_all('p')\n",
    "    article_text = ' '.join([para.get_text() for para in paragraphs])\n",
    "    return article_text"
   ]
  },
  {
   "cell_type": "code",
   "execution_count": 31,
   "metadata": {},
   "outputs": [
    {
     "data": {
      "text/plain": [
       "\"We are experiencing some temporary issues. The market data on this page is currently delayed. Please bear with us as we address this and restore your personalized lists. As smartphone companies fight to be the first to launch the latest generative AI features in their iPhones, Apple is taking its time. The company is facing weak iPhone sales and seems to be behind in the AI race. But all that could change once the first Apple Intelligence device hits the market. Apple Inc. (AAPL) is a multinational technology powerhouse that designs, develops, and markets electronic devices, software, and services. The core product offerings include iPhone, iPad, MacBook, Apple Watch, and Apple TV. With a firm emphasis on visual aesthetics, user interaction, and smooth unification of hardware and software, the company has set itself apart from the competition. Apple has built a strong ecosystem that cultivates brand loyalty through integrated product portfolios, including iCloud and App Store. The leading products of the tech giant include iPhone, iPad, Mac, wearables such as Apple Watch and AirPods, and services, particularly App Store, Apple Music, iCloud, Apple Pay, and other subscription services. Apple's leading clientele includes consumers across varied demographics who acquire Apple products online or directly from retail stores. The end market comprises a diverse tech-savvy customer base desiring cutting-edge technology and premium design for personal use, business solutions, and creative sectors. The main sources of revenue are sales of hardware products, such as iPhones, iPads, and Macs, sustained income from services and subscriptions, and digital content sales via platforms like the AppStore. iPhone continues to be the biggest moneymaker for the company, accounting for more than 50% of the revenue. With such a dominant role to play in Apple's success, the iPhone attracts a lot of attention from analysts. Many analysts try to estimate the iPhone sales number by tracking the supply chain. And they aren't impressed by the current situation. Apple has been late in launching AI features in its iPhones when its competition has already offered the latest generative AI features to its users. Apple's China sales took a hit in the previous quarter for this reason. Even when Apple did announce AI features in smartphones, they weren't available in China's local languages, giving people no incentive to upgrade their iPhones. All of this has happened before as well. Apple isn't known for being the first to offer innovative features. It usually lets other companies do that before entering the market itself. It can do that because of its unique ecosystem. People aren't willing to switch to another phone simply because one feature isn't there. This means Apple's AI features could be more mature than what other companies are offering. Once they hit the market, they could drive the need to upgrade phones from previous versions. Apple has already announced its new Mac Mini, a 5-inch by 5-inch device that will contain Apple Intelligence features. The Mac Mini starts at $599 and can already be pre-ordered. As investors wait eagerly for the Q4 earnings report, it may be a better idea to keep an eye on Mac Mini sales rather than the devices that were sold last quarter. If Apple Intelligence is well received, we could be at the beginning of the next bull run that could inch the company toward the $5 trillion mark. Apple ranks 5th on our latest list of the 31 Most Popular Stocks Among Hedge Funds. As per our database, 184 hedge fund portfolios held AAPL at the end of the second quarter which was 150 in the previous quarter. While we acknowledge the potential of AAPL as a leading AI investment, our conviction lies in the belief that some AI stocks hold greater promise for delivering higher returns, and doing so within a shorter timeframe. If you are looking for an AI stock that is as promising as AAPL but that trades at less than 5 times its earnings, check out our report about the cheapest AI stock. READ NEXT:\\xa0$30 Trillion Opportunity: 15 Best Humanoid Robot Stocks to Buy According to Morgan Stanley\\xa0and\\xa0Jim Cramer Says NVIDIA ‘Has Become A Wasteland’. Disclosure: None. This article was originally published at Insider Monkey. Sign in to access your portfolio\""
      ]
     },
     "execution_count": 31,
     "metadata": {},
     "output_type": "execute_result"
    }
   ],
   "source": [
    "extract_article_text(get_major_news(ticker)[\"Link\"][0])"
   ]
  },
  {
   "cell_type": "code",
   "execution_count": 32,
   "metadata": {},
   "outputs": [],
   "source": [
    "import logging\n",
    "import boto3\n",
    "from botocore.exceptions import ClientError"
   ]
  },
  {
   "cell_type": "code",
   "execution_count": 40,
   "metadata": {},
   "outputs": [
    {
     "data": {
      "text/plain": [
       "True"
      ]
     },
     "execution_count": 40,
     "metadata": {},
     "output_type": "execute_result"
    }
   ],
   "source": [
    "from dotenv import load_dotenv\n",
    "import os\n",
    "load_dotenv()"
   ]
  },
  {
   "cell_type": "code",
   "execution_count": 41,
   "metadata": {},
   "outputs": [],
   "source": [
    "access_key = os.getenv(\"AWS_ACCESS_KEY_ID\")\n",
    "secret_key = os.getenv(\"AWS_SECRET_ACCESS_KEY\")\n",
    "session_token = os.getenv(\"AWS_SESSION_KEY\")\n",
    "region_name = os.getenv(\"AWS_DEFAULT_REGION\")\n"
   ]
  },
  {
   "cell_type": "code",
   "execution_count": 42,
   "metadata": {},
   "outputs": [],
   "source": [
    "\n",
    "bedrock_client = boto3.client('bedrock-runtime', region_name=region_name,\n",
    "    aws_access_key_id=access_key,\n",
    "    aws_secret_access_key=secret_key,\n",
    "    aws_session_token=session_token  )\n"
   ]
  },
  {
   "cell_type": "code",
   "execution_count": 60,
   "metadata": {},
   "outputs": [],
   "source": [
    "# Fonction pour analyser le sujet principal\n",
    "def analyze_subject(text):\n",
    "    try:\n",
    "        response = bedrock_client.invoke_model(\n",
    "            modelId=\"anthropic.claude-3-sonnet-20240229-v1:0\",\n",
    "            contentType=\"application/json\",\n",
    "            accept=\"application/json\",\n",
    "            body=json.dumps({\n",
    "                \"anthropic_version\": \"bedrock-2023-05-31\",\n",
    "                \"max_tokens\": 50,\n",
    "                \"temperature\": 0.5,\n",
    "                \"messages\": [\n",
    "                    {\"role\": \"user\", \"content\": f\"Quel est le sujet principal de cet article : \\\"{text}\\\"\"}\n",
    "                ]\n",
    "            })\n",
    "        )\n",
    "        \n",
    "        response_body = json.loads(response['body'].read().decode('utf-8'))\n",
    "        content = response_body.get(\"content\")\n",
    "        \n",
    "        subject_analysis = content[0][\"text\"] if content else \"Pas de sujet détecté\"\n",
    "        return subject_analysis\n",
    "    \n",
    "    except Exception as e:\n",
    "        print(\"Erreur d'analyse du sujet :\", e)\n",
    "        return None\n",
    "\n"
   ]
  },
  {
   "cell_type": "code",
   "execution_count": 71,
   "metadata": {},
   "outputs": [],
   "source": [
    "# Fonction pour l'analyse de sentiment\n",
    "def analyze_sentiment(text):\n",
    "    try:\n",
    "        response = bedrock_client.invoke_model(\n",
    "            modelId=\"anthropic.claude-3-sonnet-20240229-v1:0\",\n",
    "            contentType=\"application/json\",\n",
    "            accept=\"application/json\",\n",
    "            body=json.dumps({\n",
    "                \"anthropic_version\": \"bedrock-2023-05-31\",\n",
    "                \"max_tokens\": 50,\n",
    "                \"temperature\": 0.5,\n",
    "                \"messages\": [\n",
    "                    {\"role\": \"user\", \"content\": f\"Analyse le sentiment de ce texte : \\\"{text}\\\"\"}\n",
    "                ]\n",
    "            })\n",
    "        )\n",
    "\n",
    "        response_body = json.loads(response['body'].read().decode('utf-8'))\n",
    "        content = response_body.get(\"content\")\n",
    "        \n",
    "        sentiment_analysis = content[0][\"text\"] if content else \"Pas de sentiment détecté\"\n",
    "        return sentiment_analysis\n",
    "    \n",
    "    except Exception as e:\n",
    "        print(\"Erreur d'analyse de sentiment :\", e)\n",
    "        return None\n",
    "\n"
   ]
  },
  {
   "cell_type": "code",
   "execution_count": null,
   "metadata": {},
   "outputs": [],
   "source": [
    "\n",
    "url = \"https://finance.yahoo.com/news/apple-intelligence-products-could-apple-161448615.html\"\n",
    "article_text = extract_article_text(url)\n",
    "\n"
   ]
  },
  {
   "cell_type": "code",
   "execution_count": null,
   "metadata": {},
   "outputs": [
    {
     "name": "stdout",
     "output_type": "stream",
     "text": [
      "Sujet Principal de l'Article : D'après le contenu de l'article, le sujet principal semble être les perspectives d'Apple dans la course à l'intelligence artificielle, notamment avec le lancement à venir de son appareil \"Apple Intelligence\" et\n"
     ]
    }
   ],
   "source": [
    "\n",
    "sujet_principal = analyze_subject(article_text)\n",
    "print(\"Sujet Principal de l'Article :\", sujet_principal)\n"
   ]
  },
  {
   "cell_type": "code",
   "execution_count": 74,
   "metadata": {},
   "outputs": [
    {
     "name": "stdout",
     "output_type": "stream",
     "text": [
      "Sentiment Principal de l'Article : D'après l'analyse du sentiment de ce texte, le ton général semble être plutôt neutre et informatif, avec quelques éléments positifs et négatifs. Voici un résumé des princip\n"
     ]
    }
   ],
   "source": [
    "\n",
    "sentiment_principal = analyze_sentiment(article_text)\n",
    "\n",
    "print(\"Sentiment Principal de l'Article :\", sentiment_principal)"
   ]
  }
 ],
 "metadata": {
  "kernelspec": {
   "display_name": ".venv",
   "language": "python",
   "name": "python3"
  },
  "language_info": {
   "codemirror_mode": {
    "name": "ipython",
    "version": 3
   },
   "file_extension": ".py",
   "mimetype": "text/x-python",
   "name": "python",
   "nbconvert_exporter": "python",
   "pygments_lexer": "ipython3",
   "version": "3.11.3"
  }
 },
 "nbformat": 4,
 "nbformat_minor": 2
}
