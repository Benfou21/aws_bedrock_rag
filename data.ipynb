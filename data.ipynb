{
 "cells": [
  {
   "cell_type": "code",
   "execution_count": null,
   "metadata": {},
   "outputs": [],
   "source": [
    "import yfinance as yf\n",
    "import pandas as pd\n",
    "from datetime import datetime\n",
    "\n"
   ]
  },
  {
   "cell_type": "code",
   "execution_count": 63,
   "metadata": {},
   "outputs": [],
   "source": [
    "def get_major_news(ticker):\n",
    "    news = ticker.news\n",
    "    data = []\n",
    "    for item in news:\n",
    "        title = item.get('title')\n",
    "        link = item.get('link')\n",
    "        source = item.get('publisher')\n",
    "        # Convertir le timestamp Unix en format lisible\n",
    "        publish_time = datetime.fromtimestamp(item.get('providerPublishTime')).strftime('%Y-%m-%d %H:%M:%S')\n",
    "        \n",
    "        # Ajouter les informations dans un dictionnaire\n",
    "        data.append({\n",
    "            'Title': title,\n",
    "            'Link': link,\n",
    "            'Source': source,\n",
    "            'Publish Time': publish_time\n",
    "        })\n",
    "    \n",
    "    # Convertir la liste en DataFrame\n",
    "    df = pd.DataFrame(data)\n",
    "    return df"
   ]
  },
  {
   "cell_type": "code",
   "execution_count": 64,
   "metadata": {},
   "outputs": [],
   "source": [
    "news = get_major_news(ticker)"
   ]
  },
  {
   "cell_type": "code",
   "execution_count": 67,
   "metadata": {},
   "outputs": [],
   "source": [
    "import requests\n",
    "from bs4 import BeautifulSoup\n",
    "import json\n",
    "\n",
    "# Fonction pour extraire le texte principal de l'article\n",
    "def extract_article_text(url):\n",
    "    response = requests.get(url)\n",
    "    soup = BeautifulSoup(response.content, 'html.parser')\n",
    "    \n",
    "    # Extraction des paragraphes de l'article\n",
    "    paragraphs = soup.find_all('p')\n",
    "    article_text = ' '.join([para.get_text() for para in paragraphs])\n",
    "    return article_text"
   ]
  },
  {
   "cell_type": "code",
   "execution_count": 68,
   "metadata": {},
   "outputs": [
    {
     "data": {
      "text/plain": [
       "'We are experiencing some temporary issues. The market data on this page is currently delayed. Please bear with us as we address this and restore your personalized lists. (Bloomberg) -- Berkshire Hathaway Inc.’s continued sales of Apple Inc. shares in the third quarter left the conglomerate’s stake at a fraction of its size at the start of the year. Most Read from Bloomberg Istanbul Tries Free Public Transit to Help Job Seekers The Answer To Making Cities More Family-Friendly? Courtyards Is Denver’s Big Bet on E-Bikes Paying Off? In Warsaw, Falling Road Deaths Signal a Traffic Safety Turnaround Chicago Mayor Seeks Property Tax Hike, Breaking Campaign Vow Berkshire cut its holdings in the iPhone maker by roughly 25% in the period, after slashing it by almost half in the second quarter. Apple’s shares gained 10.6% in the period ended Sept. 30. Warren Buffett hinted at Berkshire’s annual meeting in May that the sales of Apple in the first quarter were partly motivated by tax implications, and that the tech giant would remain the largest investment for the Omaha, Nebraska-based conglomerate. That’s still true, though Berkshire’s holdings are now valued at $69.9 billion, versus $174.3 billion at the end of last year, for a decline of almost 60%. Buffett hasn’t disclosed his views on Apple since the annual meeting. Apple is facing a raft of challenges, including a lack of meaningful growth for its signature iPhone. Last week, Apple told investors that it’s projecting low-to-middle single-digit sales growth in the December period, falling short of estimates for the crucial holiday season. Sales in China have fallen, while domestic competitors there have gained ground. Regulators on both sides of the Atlantic are ratcheting up scrutiny over antitrust and competition concerns. And Apple has lagged behind its rivals in artificial intelligence. Last week, Apple rolled out AI upgrades for its iPhone, iPad and Mac computers but told customers the most anticipated features won’t be available until December. “I don’t think Warren Buffett’s ever really been super comfortable with technology,” said Jim Shanahan, an analyst at Edward Jones. “The share sales began surely after the death of Charlie Munger,” Shanahan said, referring to Buffett’s longtime business partner, who died in 2023. “It just may be the case that Munger was always a lot more comfortable with Apple than Warren Buffett.” Another analyst suggested Buffett’s Apple sales may be down to simple portfolio rebalancing. Cathy Seifert, a research analyst at CFRA, said Berkshire’s Apple stake was “starting to become an outsized percentage” of its overall portfolio. “I think it made sense to sort of lighten that exposure a little bit.” Here are some other key takeaways from Berkshire’s third-quarter results: Cash Pile Berkshire’s cash pile has scaled record heights, with the world’s most famous investor still struggling to find ways to spend it. The company held $325.2 billion in cash at the end of the third quarter. Buffett said at the annual meeting that the company was in no hurry to deploy its hoard “unless we think we’re doing something that has very little risk and can make us a lot of money.” Net Seller Berkshire sold a net $34.6 billion in equities during the quarter, and $127.4 billion since the beginning of the year. That’s a much faster pace of disposals from last year, when net sales totaled only $24.2 billion over 12 months. No Buybacks Buffett even declined to buy back Berkshire shares, for the first time since the company changed its policy in 2018. It bought back $345 million of its own stock in the previous period, and $1.1 billion a year ago. The stock has gotten pricier since then. Berkshire’s shares have gained roughly 25% this year, boosting its market value to $974.3 billion. Hurricane Losses The impact of Hurricane Helene on Berkshire’s earnings this quarter was $565 million. It said Hurricane Milton is expected to result in a pretax hit of $1.3 billion to $1.5 billion for the fourth quarter. Operating Profit Berkshire Hathaway’s operating profit declined 6% from a year earlier to $10.1 billion, though a foreign-exchange-currency loss of about $1.1 billion in the period played a role. Earnings from underwriting at the firm’s collection of insurance businesses slumped 69% to $750 million, in part driven by losses at its primary insurance unit. --With assistance from Mark Gurman. Most Read from Bloomberg Businessweek What Everyone Gets Wrong About Luxury Handbags Trump’s Immigration Policy Would Make Food Inflation Even Worse How to End the Backlog of Asylum Cases? Take Them Out of the Courts How Elon Musk Came to Embrace the ‘Trump Trade’ Private Equity Hipsters Are Coming for Your Favorite Apps ©2024 Bloomberg L.P. Sign in to access your portfolio'"
      ]
     },
     "execution_count": 68,
     "metadata": {},
     "output_type": "execute_result"
    }
   ],
   "source": [
    "extract_article_text(news[\"Link\"][0])"
   ]
  },
  {
   "cell_type": "code",
   "execution_count": 69,
   "metadata": {},
   "outputs": [],
   "source": [
    "import logging\n",
    "import boto3\n",
    "from botocore.exceptions import ClientError"
   ]
  },
  {
   "cell_type": "code",
   "execution_count": 70,
   "metadata": {},
   "outputs": [
    {
     "data": {
      "text/plain": [
       "True"
      ]
     },
     "execution_count": 70,
     "metadata": {},
     "output_type": "execute_result"
    }
   ],
   "source": [
    "from dotenv import load_dotenv\n",
    "import os\n",
    "load_dotenv()"
   ]
  },
  {
   "cell_type": "code",
   "execution_count": 71,
   "metadata": {},
   "outputs": [],
   "source": [
    "access_key = os.getenv(\"AWS_ACCESS_KEY_ID\")\n",
    "secret_key = os.getenv(\"AWS_SECRET_ACCESS_KEY\")\n",
    "session_token = os.getenv(\"AWS_SESSION_KEY\")\n",
    "region_name = os.getenv(\"AWS_DEFAULT_REGION\")\n"
   ]
  },
  {
   "cell_type": "code",
   "execution_count": 72,
   "metadata": {},
   "outputs": [],
   "source": [
    "\n",
    "bedrock_client = boto3.client('bedrock-runtime', region_name=region_name,\n",
    "    aws_access_key_id=access_key,\n",
    "    aws_secret_access_key=secret_key,\n",
    "    aws_session_token=session_token  )\n"
   ]
  },
  {
   "cell_type": "code",
   "execution_count": 92,
   "metadata": {},
   "outputs": [],
   "source": [
    "\n",
    "def analyze_subject_sentiment(text):\n",
    "    try:\n",
    "        response = bedrock_client.invoke_model(\n",
    "            modelId=\"anthropic.claude-3-sonnet-20240229-v1:0\",\n",
    "            contentType=\"application/json\",\n",
    "            accept=\"application/json\",\n",
    "            body=json.dumps({\n",
    "                \"anthropic_version\": \"bedrock-2023-05-31\",\n",
    "                \"max_tokens\": 100,\n",
    "                \"temperature\": 0.5,\n",
    "                \"messages\": [\n",
    "                    {\"role\": \"user\", \"content\": f\"Donne uniquement sujet principal de cet article ainsi que le sentiment du text associé sans explicatioN: \\\"{text}\\\"\"}\n",
    "                ]\n",
    "            })\n",
    "        )\n",
    "        \n",
    "        response_body = json.loads(response['body'].read().decode('utf-8'))\n",
    "        content = response_body.get(\"content\")\n",
    "        \n",
    "        subject_analysis = content[0][\"text\"] if content else \"Pas de sujet détecté\"\n",
    "        return subject_analysis\n",
    "    \n",
    "    except Exception as e:\n",
    "        print(\"Erreur d'analyse du sujet :\", e)\n",
    "        return None\n",
    "\n"
   ]
  },
  {
   "cell_type": "code",
   "execution_count": 89,
   "metadata": {},
   "outputs": [],
   "source": [
    "\n",
    "def analyze_sentiment(text):\n",
    "    try:\n",
    "        response = bedrock_client.invoke_model(\n",
    "            modelId=\"anthropic.claude-3-sonnet-20240229-v1:0\",\n",
    "            contentType=\"application/json\",\n",
    "            accept=\"application/json\",\n",
    "            body=json.dumps({\n",
    "                \"anthropic_version\": \"bedrock-2023-05-31\",\n",
    "                \"max_tokens\": 50,\n",
    "                \"temperature\": 0.5,\n",
    "                \"messages\": [\n",
    "                    {\"role\": \"user\", \"content\": f\"Analyse le sentiment de ce texte : \\\"{text}\\\"\"}\n",
    "                ]\n",
    "            })\n",
    "        )\n",
    "\n",
    "        response_body = json.loads(response['body'].read().decode('utf-8'))\n",
    "        content = response_body.get(\"content\")\n",
    "        \n",
    "        sentiment_analysis = content[0][\"text\"] if content else \"Pas de sentiment détecté\"\n",
    "        return sentiment_analysis\n",
    "    \n",
    "    except Exception as e:\n",
    "        print(\"Erreur d'analyse de sentiment :\", e)\n",
    "        return None"
   ]
  },
  {
   "cell_type": "code",
   "execution_count": 90,
   "metadata": {},
   "outputs": [],
   "source": [
    "url = \"https://finance.yahoo.com/news/apple-intelligence-products-could-apple-161448615.html\"\n",
    "article_text = extract_article_text(url)"
   ]
  },
  {
   "cell_type": "code",
   "execution_count": 93,
   "metadata": {},
   "outputs": [
    {
     "name": "stdout",
     "output_type": "stream",
     "text": [
      "Sujet Principal de l'Article : Le sujet principal de cet article semble être les perspectives d'Apple dans la course à l'intelligence artificielle (IA) et le lancement potentiel d'un appareil Apple Intelligence. Le sentiment général du texte est plutôt neutre, présentant à la fois les défis auxquels Apple est confronté dans ce domaine ainsi que les opportunités futures avec le lancement de nouveaux produits IA.\n"
     ]
    }
   ],
   "source": [
    "sujet_principal = analyze_subject_sentiment(article_text)\n",
    "print(\"Sujet Principal de l'Article :\", sujet_principal)"
   ]
  },
  {
   "cell_type": "code",
   "execution_count": 94,
   "metadata": {},
   "outputs": [],
   "source": [
    "\n",
    "# Fonction principale pour obtenir les informations d'actualité avec sujet et sentiment\n",
    "def get_news_with_sentiment(ticker):\n",
    "    news = ticker.news\n",
    "    sentiment_output = ''\n",
    "    \n",
    "    for item in news:\n",
    "        title = item.get('title')\n",
    "        link = item.get('link')\n",
    "        source = item.get('publisher')\n",
    "        \n",
    "        # Extraire le texte de l'article\n",
    "        article_text = extract_article_text(link)\n",
    "        \n",
    "        # Analyser le sujet et le sentiment\n",
    "        subject_sentiment = analyze_subject_sentiment(article_text)\n",
    "        \n",
    "        sentiment_output += title + subject_sentiment\n",
    "        \n",
    "\n",
    "    return sentiment_output"
   ]
  },
  {
   "cell_type": "code",
   "execution_count": 95,
   "metadata": {},
   "outputs": [
    {
     "data": {
      "text/plain": [
       "'Buffett Keeps Cutting Apple Stake, With Value Down 60% This YearSujet principal : L\\'article traite principalement de la vente continue par Berkshire Hathaway d\\'actions d\\'Apple au troisième trimestre, réduisant considérablement sa participation dans la société technologique.\\n\\nSentiment : Le ton de l\\'article est plutôt neutre et factuel, présentant des informations et des chiffres sur les activités de Berkshire Hathaway sans émettre3 Things Apple Doesn\\'t Want to Talk AboutSujet principal: Problème technique en cours de résolution\\n\\nSentiment: RassurantBig Pension Sold Palantir, Apple, and Nvidia Stock. It Bought AMD.Sujet principal: Problème technique en cours de résolution\\n\\nSentiment: RassurantApple Intelligence Products Could Make Up For Apple’s (AAPL) iPhone WeaknessLe sujet principal de cet article semble être les perspectives d\\'Apple dans la course à l\\'intelligence artificielle et le lancement potentiel d\\'un appareil \"Apple Intelligence\".\\n\\nLe sentiment général du texte est mitigé, reconnaissant les défis actuels d\\'Apple comme les ventes d\\'iPhone décevantes et un retard perçu dans la course à l\\'IA, mais suggérant également un potentielPixelmator announces agreement to be acquired by AppleSujet principal: Acquisition de Pixelmator par Apple.\\n\\nSentiment: Positif/Enthousiaste.Berkshire Hathaway’s Cash Pile Reaches Record $325.2 BillionSujet principal : L\\'accumulation record de trésorerie de 325,2 milliards de dollars par Berkshire Hathaway au troisième trimestre, alors que Warren Buffett s\\'abstient d\\'acquisitions majeures et réduit certaines de ses participations en actions les plus importantes.\\n\\nSentiment : Neutre. L\\'article présente des faits et des chiffres concernant la situation financWarren Buffett\\'s Berkshire Hathaway Sells Apple Stock, Boosts Cash Pile to RecordSujet principal: Problème technique en cours de résolution\\n\\nSentiment: RassurantWarren Buffett’s Berkshire Hathaway Slashes Apple Stake AgainSujet principal: Vente d\\'actions Apple par Berkshire Hathaway de Warren Buffett au troisième trimestre.\\n\\nSentiment: Neutre'"
      ]
     },
     "execution_count": 95,
     "metadata": {},
     "output_type": "execute_result"
    }
   ],
   "source": [
    "get_news_with_sentiment(ticker)"
   ]
  },
  {
   "cell_type": "markdown",
   "metadata": {},
   "source": [
    "## SP500"
   ]
  },
  {
   "cell_type": "code",
   "execution_count": null,
   "metadata": {},
   "outputs": [],
   "source": [
    "def get_sp500_list():\n",
    "    url = \"https://en.wikipedia.org/wiki/List_of_S%26P_500_companies\"\n",
    "    \n",
    "    sp500_table = pd.read_html(url, header=0)[0]\n",
    "    \n",
    "    sp500_table = sp500_table.drop(columns=['Headquarters Location', 'Date added','Founded', 'CIK','GICS Sub-Industry','GICS Sector'])\n",
    "    \n",
    "    return sp500_table"
   ]
  },
  {
   "cell_type": "code",
   "execution_count": 8,
   "metadata": {},
   "outputs": [],
   "source": [
    "sp500_table =get_sp500_list()"
   ]
  },
  {
   "cell_type": "code",
   "execution_count": 9,
   "metadata": {},
   "outputs": [
    {
     "data": {
      "text/html": [
       "<div>\n",
       "<style scoped>\n",
       "    .dataframe tbody tr th:only-of-type {\n",
       "        vertical-align: middle;\n",
       "    }\n",
       "\n",
       "    .dataframe tbody tr th {\n",
       "        vertical-align: top;\n",
       "    }\n",
       "\n",
       "    .dataframe thead th {\n",
       "        text-align: right;\n",
       "    }\n",
       "</style>\n",
       "<table border=\"1\" class=\"dataframe\">\n",
       "  <thead>\n",
       "    <tr style=\"text-align: right;\">\n",
       "      <th></th>\n",
       "      <th>Symbol</th>\n",
       "      <th>Security</th>\n",
       "    </tr>\n",
       "  </thead>\n",
       "  <tbody>\n",
       "    <tr>\n",
       "      <th>0</th>\n",
       "      <td>MMM</td>\n",
       "      <td>3M</td>\n",
       "    </tr>\n",
       "    <tr>\n",
       "      <th>1</th>\n",
       "      <td>AOS</td>\n",
       "      <td>A. O. Smith</td>\n",
       "    </tr>\n",
       "    <tr>\n",
       "      <th>2</th>\n",
       "      <td>ABT</td>\n",
       "      <td>Abbott Laboratories</td>\n",
       "    </tr>\n",
       "    <tr>\n",
       "      <th>3</th>\n",
       "      <td>ABBV</td>\n",
       "      <td>AbbVie</td>\n",
       "    </tr>\n",
       "    <tr>\n",
       "      <th>4</th>\n",
       "      <td>ACN</td>\n",
       "      <td>Accenture</td>\n",
       "    </tr>\n",
       "    <tr>\n",
       "      <th>...</th>\n",
       "      <td>...</td>\n",
       "      <td>...</td>\n",
       "    </tr>\n",
       "    <tr>\n",
       "      <th>498</th>\n",
       "      <td>XYL</td>\n",
       "      <td>Xylem Inc.</td>\n",
       "    </tr>\n",
       "    <tr>\n",
       "      <th>499</th>\n",
       "      <td>YUM</td>\n",
       "      <td>Yum! Brands</td>\n",
       "    </tr>\n",
       "    <tr>\n",
       "      <th>500</th>\n",
       "      <td>ZBRA</td>\n",
       "      <td>Zebra Technologies</td>\n",
       "    </tr>\n",
       "    <tr>\n",
       "      <th>501</th>\n",
       "      <td>ZBH</td>\n",
       "      <td>Zimmer Biomet</td>\n",
       "    </tr>\n",
       "    <tr>\n",
       "      <th>502</th>\n",
       "      <td>ZTS</td>\n",
       "      <td>Zoetis</td>\n",
       "    </tr>\n",
       "  </tbody>\n",
       "</table>\n",
       "<p>503 rows × 2 columns</p>\n",
       "</div>"
      ],
      "text/plain": [
       "    Symbol             Security\n",
       "0      MMM                   3M\n",
       "1      AOS          A. O. Smith\n",
       "2      ABT  Abbott Laboratories\n",
       "3     ABBV               AbbVie\n",
       "4      ACN            Accenture\n",
       "..     ...                  ...\n",
       "498    XYL           Xylem Inc.\n",
       "499    YUM          Yum! Brands\n",
       "500   ZBRA   Zebra Technologies\n",
       "501    ZBH        Zimmer Biomet\n",
       "502    ZTS               Zoetis\n",
       "\n",
       "[503 rows x 2 columns]"
      ]
     },
     "execution_count": 9,
     "metadata": {},
     "output_type": "execute_result"
    }
   ],
   "source": [
    "sp500_table"
   ]
  },
  {
   "cell_type": "code",
   "execution_count": 16,
   "metadata": {},
   "outputs": [
    {
     "name": "stdout",
     "output_type": "stream",
     "text": [
      "Le ticker pour 'Apple' est : MMM\n"
     ]
    }
   ],
   "source": [
    "from rapidfuzz import process, fuzz\n",
    "\n",
    "def get_ticker_from_name(name, df, threshold=50):\n",
    "    match = process.extractOne(name, df[\"Security\"], scorer=fuzz.token_sort_ratio)\n",
    "    if match and match[1] >= threshold:  # Seuil pour déterminer la qualité du match\n",
    "        symbol = df.loc[df[\"Security\"] == match[0], \"Symbol\"].values[0]\n",
    "        return symbol\n",
    "    else:\n",
    "        return \"Ticker non trouvé\"\n",
    "\n",
    "# Exemple d'utilisation\n",
    "ticker = get_ticker_from_name(\"3M\", sp500_table)\n",
    "print(f\"Le ticker pour 'Apple' est : {ticker}\")"
   ]
  },
  {
   "cell_type": "markdown",
   "metadata": {},
   "source": [
    "## Macros"
   ]
  },
  {
   "cell_type": "code",
   "execution_count": 52,
   "metadata": {},
   "outputs": [],
   "source": [
    "def caption_summary(text,max_token):\n",
    "    try:\n",
    "        response = bedrock_client.invoke_model(\n",
    "            modelId=\"anthropic.claude-3-sonnet-20240229-v1:0\",\n",
    "            contentType=\"application/json\",\n",
    "            accept=\"application/json\",\n",
    "            body=json.dumps({\n",
    "                \"anthropic_version\": \"bedrock-2023-05-31\",\n",
    "                \"max_tokens\": max_token,\n",
    "                \"temperature\": 0.5,\n",
    "                \"messages\": [\n",
    "                    {\"role\": \"user\", \"content\": f\"Tu es un macro économiste, rédige un résumé des points clés  macro économique des différents sujets, avec détails (ex chiffres) : \\\"{text}\\\"\"}\n",
    "                ]\n",
    "            })\n",
    "        )\n",
    "\n",
    "        response_body = json.loads(response['body'].read().decode('utf-8'))\n",
    "        content = response_body.get(\"content\")\n",
    "        \n",
    "        sentiment_analysis = content[0][\"text\"] if content else \"Pas de sentiment détecté\"\n",
    "        return sentiment_analysis\n",
    "    \n",
    "    except Exception as e:\n",
    "        print(\"Erreur d'analyse de sentiment :\", e)"
   ]
  },
  {
   "cell_type": "code",
   "execution_count": 53,
   "metadata": {},
   "outputs": [
    {
     "data": {
      "text/plain": [
       "\"Voici un résumé des principaux points macroéconomiques abordés dans l'article, accompagné de détails chiffrés :\\n\\nCroissance économique :\\n- Le PIB réel des États-Unis a progressé de 2,6 % au quatrième trimestre 2022, selon les estimations initiales.\\n- La croissance annuelle du PIB réel pour 2022 devrait s'établir autour de 2,1 %, en baisse par rapport aux 5,9 % enregistrés en 2021.\\n\\nInflation :\\n- L'inflation mesurée par l'in\""
      ]
     },
     "execution_count": 53,
     "metadata": {},
     "output_type": "execute_result"
    }
   ],
   "source": [
    "caption_summary(\"https://finance.yahoo.com/m/0b9780b5-16af-3ee9-b4a1-926fcb7e6826/the-stock-market-is-doing.html\",150)"
   ]
  },
  {
   "cell_type": "code",
   "execution_count": 54,
   "metadata": {},
   "outputs": [],
   "source": [
    "import yfinance as yf\n",
    "import pandas as pd\n",
    "\n",
    "\n",
    "tickers = {\n",
    "    \"^GSPC\": \"S&P 500 - Indice Boursier\",\n",
    "    \"DX-Y.NYB\": \"Indice du Dollar Américain\",\n",
    "    \"^TNX\": \"Taux des Obligations à 10 ans\",\n",
    "    \"GC=F\": \"Prix de l'Or\",\n",
    "    \"CL=F\": \"Prix du Pétrole (WTI)\",\n",
    "    \"^VIX\": \"VIX - Volatilité des Marchés\"\n",
    "}\n"
   ]
  },
  {
   "cell_type": "code",
   "execution_count": null,
   "metadata": {},
   "outputs": [],
   "source": [
    "news_data = []\n",
    "\n",
    "output_text = \"\"\n",
    "for ticker_symbol, description in tickers.items():\n",
    "    ticker = yf.Ticker(ticker_symbol)\n",
    "    news_items = ticker.news\n",
    "    \n",
    "    for item in news_items[:2]:\n",
    "        \n",
    "        text = caption_summary(item[\"link\"],150)\n",
    "        output_text += text"
   ]
  },
  {
   "cell_type": "code",
   "execution_count": 58,
   "metadata": {},
   "outputs": [
    {
     "data": {
      "text/plain": [
       "\"Voici un résumé des points clés macroéconomiques abordés dans l'article, avec des détails chiffrés :\\n\\nContexte économique actuel :\\n- L'économie américaine connaît une période de ralentissement, avec un taux de croissance annualisé du PIB de seulement 1,1% au premier trimestre 2023. \\n- Cependant, le marché boursier (S&P 500) affiche une performance positive de 8,6% depuis le début de l'année.\\n\\nMarché du travail :\\n- Le taux de chômage est resté stable à 3,6% en avril 2023.\\n- Seulement 253 000 nouveaux emplois ont été créés en avril, bien en deçà des attentes des économistes qui tablaient sur 180 000 nouveaux emplois. Ce ralentissement contraste avec les solides créations d'emplois des mois précédents (472 000 en janvier et 326 000 en février).\\n\\nInflation :\\n- L'inflation annuelle des prix à la consommation s'est établie à 4,9% en avril, en léger ralentissement par rapport à mars (5%).\\n- Cependant\""
      ]
     },
     "execution_count": 58,
     "metadata": {},
     "output_type": "execute_result"
    }
   ],
   "source": [
    "caption_summary(output_text,max_token=300)"
   ]
  },
  {
   "cell_type": "code",
   "execution_count": null,
   "metadata": {},
   "outputs": [],
   "source": []
  }
 ],
 "metadata": {
  "kernelspec": {
   "display_name": ".venv",
   "language": "python",
   "name": "python3"
  },
  "language_info": {
   "codemirror_mode": {
    "name": "ipython",
    "version": 3
   },
   "file_extension": ".py",
   "mimetype": "text/x-python",
   "name": "python",
   "nbconvert_exporter": "python",
   "pygments_lexer": "ipython3",
   "version": "3.11.3"
  }
 },
 "nbformat": 4,
 "nbformat_minor": 2
}
