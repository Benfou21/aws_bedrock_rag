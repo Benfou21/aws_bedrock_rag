{
 "cells": [
  {
   "cell_type": "code",
   "execution_count": 1,
   "metadata": {},
   "outputs": [],
   "source": [
    "import yfinance as yf\n",
    "import pandas as pd\n",
    "\n",
    "\n",
    "tickers = {\n",
    "    \"^GSPC\": \"S&P 500 - Indice Boursier\",\n",
    "    \"DX-Y.NYB\": \"Indice du Dollar Américain\",\n",
    "    \"^TNX\": \"Taux des Obligations à 10 ans\",\n",
    "    \"GC=F\": \"Prix de l'Or\",\n",
    "    \"CL=F\": \"Prix du Pétrole (WTI)\",\n",
    "    \"^VIX\": \"VIX - Volatilité des Marchés\"\n",
    "}\n"
   ]
  },
  {
   "cell_type": "code",
   "execution_count": null,
   "metadata": {},
   "outputs": [],
   "source": [
    "news_data = []\n",
    "\n",
    "for ticker_symbol, description in tickers.items():\n",
    "    ticker = yf.Ticker(ticker_symbol)\n",
    "    news_items = ticker.news\n",
    "    \n",
    "    for item in news_items:\n",
    "        \n",
    "        \n",
    "        \n",
    "        \n",
    "        news_data.append({\n",
    "            \"Ticker\": ticker_symbol,\n",
    "            \"Description\": description,\n",
    "            \"Title\": item[\"title\"],\n",
    "            \"Link\": item[\"link\"]\n",
    "        })\n",
    "\n",
    "\n",
    "news_df = pd.DataFrame(news_data)\n"
   ]
  },
  {
   "cell_type": "code",
   "execution_count": 5,
   "metadata": {},
   "outputs": [
    {
     "name": "stdout",
     "output_type": "stream",
     "text": [
      "https://finance.yahoo.com/m/0b9780b5-16af-3ee9-b4a1-926fcb7e6826/the-stock-market-is-doing.html\n"
     ]
    }
   ],
   "source": [
    "print(news_df[\"Link\"][0])"
   ]
  },
  {
   "cell_type": "code",
   "execution_count": null,
   "metadata": {},
   "outputs": [],
   "source": []
  }
 ],
 "metadata": {
  "kernelspec": {
   "display_name": ".venv",
   "language": "python",
   "name": "python3"
  },
  "language_info": {
   "codemirror_mode": {
    "name": "ipython",
    "version": 3
   },
   "file_extension": ".py",
   "mimetype": "text/x-python",
   "name": "python",
   "nbconvert_exporter": "python",
   "pygments_lexer": "ipython3",
   "version": "3.11.3"
  }
 },
 "nbformat": 4,
 "nbformat_minor": 2
}
